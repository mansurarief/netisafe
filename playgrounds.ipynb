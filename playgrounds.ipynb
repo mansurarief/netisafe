{
 "cells": [
  {
   "cell_type": "code",
   "execution_count": 11,
   "id": "0268f098",
   "metadata": {},
   "outputs": [],
   "source": [
    "import itertools\n",
    "import json\n",
    " \n",
    "def findsubsets(s, n):\n",
    "    return list(itertools.combinations(s, n))"
   ]
  },
  {
   "cell_type": "code",
   "execution_count": 8,
   "id": "2f4045df",
   "metadata": {},
   "outputs": [
    {
     "data": {
      "text/plain": [
       "{'id': 1,\n",
       " 'user_fullname': 'A person',\n",
       " 'avatar_img': 'https://i.pravatar.cc/152',\n",
       " 'date_text': '14 November 2021 at 19:28',\n",
       " 'timestamp': '1636936130.866307',\n",
       " 'message': 'Im sick of all the politically correct rhetoric going out there. Stop spewing words like Mad Men, Orange is the New Black',\n",
       " 'has_img': True,\n",
       " 'post_img': 'https://picsum.photos/401/300',\n",
       " 'has_comments': True,\n",
       " 'comments': [{'id': 1,\n",
       "   'user_fullname': 'A friend',\n",
       "   'time_ago': '14h',\n",
       "   'avatar_img': 'https://i.pravatar.cc/153',\n",
       "   'message': 'This is a comment'},\n",
       "  {'id': 2,\n",
       "   'user_fullname': 'Another friend',\n",
       "   'time_ago': '12h',\n",
       "   'avatar_img': 'https://i.pravatar.cc/148',\n",
       "   'message': 'You are sick, man!'}]}"
      ]
     },
     "execution_count": 8,
     "metadata": {},
     "output_type": "execute_result"
    }
   ],
   "source": [
    "\n",
    "with open(\"data/post_1.json\", \"r\") as file_handler:    \n",
    "    userdata = json.load(file_handler)\n",
    "userdata"
   ]
  },
  {
   "cell_type": "code",
   "execution_count": 9,
   "id": "7ac34218",
   "metadata": {},
   "outputs": [],
   "source": [
    "\n",
    "with open(\"data/post_w.json\", \"w\") as file_handler:    \n",
    "    userdata = json.dump(userdata, file_handler)"
   ]
  },
  {
   "cell_type": "code",
   "execution_count": 41,
   "id": "84c05ba5",
   "metadata": {},
   "outputs": [
    {
     "name": "stdout",
     "output_type": "stream",
     "text": [
      "[('Im', 'sick'), ('Im', 'of'), ('Im', 'all'), ('Im', 'the'), ('Im', 'politically'), ('Im', 'correct'), ('Im', 'rhetoric'), ('Im', 'going'), ('Im', 'out'), ('Im', 'there.'), ('Im', 'Stop'), ('Im', 'spewing'), ('Im', 'words'), ('Im', 'like'), ('Im', 'Mad'), ('Im', 'Men,'), ('Im', 'Orange'), ('Im', 'is'), ('Im', 'the'), ('Im', 'New'), ('Im', 'Black'), ('sick', 'of'), ('sick', 'all'), ('sick', 'the'), ('sick', 'politically'), ('sick', 'correct'), ('sick', 'rhetoric'), ('sick', 'going'), ('sick', 'out'), ('sick', 'there.'), ('sick', 'Stop'), ('sick', 'spewing'), ('sick', 'words'), ('sick', 'like'), ('sick', 'Mad'), ('sick', 'Men,'), ('sick', 'Orange'), ('sick', 'is'), ('sick', 'the'), ('sick', 'New'), ('sick', 'Black'), ('of', 'all'), ('of', 'the'), ('of', 'politically'), ('of', 'correct'), ('of', 'rhetoric'), ('of', 'going'), ('of', 'out'), ('of', 'there.'), ('of', 'Stop'), ('of', 'spewing'), ('of', 'words'), ('of', 'like'), ('of', 'Mad'), ('of', 'Men,'), ('of', 'Orange'), ('of', 'is'), ('of', 'the'), ('of', 'New'), ('of', 'Black'), ('all', 'the'), ('all', 'politically'), ('all', 'correct'), ('all', 'rhetoric'), ('all', 'going'), ('all', 'out'), ('all', 'there.'), ('all', 'Stop'), ('all', 'spewing'), ('all', 'words'), ('all', 'like'), ('all', 'Mad'), ('all', 'Men,'), ('all', 'Orange'), ('all', 'is'), ('all', 'the'), ('all', 'New'), ('all', 'Black'), ('the', 'politically'), ('the', 'correct'), ('the', 'rhetoric'), ('the', 'going'), ('the', 'out'), ('the', 'there.'), ('the', 'Stop'), ('the', 'spewing'), ('the', 'words'), ('the', 'like'), ('the', 'Mad'), ('the', 'Men,'), ('the', 'Orange'), ('the', 'is'), ('the', 'the'), ('the', 'New'), ('the', 'Black'), ('politically', 'correct'), ('politically', 'rhetoric'), ('politically', 'going'), ('politically', 'out'), ('politically', 'there.'), ('politically', 'Stop'), ('politically', 'spewing'), ('politically', 'words'), ('politically', 'like'), ('politically', 'Mad'), ('politically', 'Men,'), ('politically', 'Orange'), ('politically', 'is'), ('politically', 'the'), ('politically', 'New'), ('politically', 'Black'), ('correct', 'rhetoric'), ('correct', 'going'), ('correct', 'out'), ('correct', 'there.'), ('correct', 'Stop'), ('correct', 'spewing'), ('correct', 'words'), ('correct', 'like'), ('correct', 'Mad'), ('correct', 'Men,'), ('correct', 'Orange'), ('correct', 'is'), ('correct', 'the'), ('correct', 'New'), ('correct', 'Black'), ('rhetoric', 'going'), ('rhetoric', 'out'), ('rhetoric', 'there.'), ('rhetoric', 'Stop'), ('rhetoric', 'spewing'), ('rhetoric', 'words'), ('rhetoric', 'like'), ('rhetoric', 'Mad'), ('rhetoric', 'Men,'), ('rhetoric', 'Orange'), ('rhetoric', 'is'), ('rhetoric', 'the'), ('rhetoric', 'New'), ('rhetoric', 'Black'), ('going', 'out'), ('going', 'there.'), ('going', 'Stop'), ('going', 'spewing'), ('going', 'words'), ('going', 'like'), ('going', 'Mad'), ('going', 'Men,'), ('going', 'Orange'), ('going', 'is'), ('going', 'the'), ('going', 'New'), ('going', 'Black'), ('out', 'there.'), ('out', 'Stop'), ('out', 'spewing'), ('out', 'words'), ('out', 'like'), ('out', 'Mad'), ('out', 'Men,'), ('out', 'Orange'), ('out', 'is'), ('out', 'the'), ('out', 'New'), ('out', 'Black'), ('there.', 'Stop'), ('there.', 'spewing'), ('there.', 'words'), ('there.', 'like'), ('there.', 'Mad'), ('there.', 'Men,'), ('there.', 'Orange'), ('there.', 'is'), ('there.', 'the'), ('there.', 'New'), ('there.', 'Black'), ('Stop', 'spewing'), ('Stop', 'words'), ('Stop', 'like'), ('Stop', 'Mad'), ('Stop', 'Men,'), ('Stop', 'Orange'), ('Stop', 'is'), ('Stop', 'the'), ('Stop', 'New'), ('Stop', 'Black'), ('spewing', 'words'), ('spewing', 'like'), ('spewing', 'Mad'), ('spewing', 'Men,'), ('spewing', 'Orange'), ('spewing', 'is'), ('spewing', 'the'), ('spewing', 'New'), ('spewing', 'Black'), ('words', 'like'), ('words', 'Mad'), ('words', 'Men,'), ('words', 'Orange'), ('words', 'is'), ('words', 'the'), ('words', 'New'), ('words', 'Black'), ('like', 'Mad'), ('like', 'Men,'), ('like', 'Orange'), ('like', 'is'), ('like', 'the'), ('like', 'New'), ('like', 'Black'), ('Mad', 'Men,'), ('Mad', 'Orange'), ('Mad', 'is'), ('Mad', 'the'), ('Mad', 'New'), ('Mad', 'Black'), ('Men,', 'Orange'), ('Men,', 'is'), ('Men,', 'the'), ('Men,', 'New'), ('Men,', 'Black'), ('Orange', 'is'), ('Orange', 'the'), ('Orange', 'New'), ('Orange', 'Black'), ('is', 'the'), ('is', 'New'), ('is', 'Black'), ('the', 'New'), ('the', 'Black'), ('New', 'Black')]\n",
      "[('You', 'are'), ('You', 'not'), ('You', 'toxic!!'), ('are', 'not'), ('are', 'toxic!!'), ('not', 'toxic!!')]\n",
      "[('Really', 'hate'), ('Really', 'the'), ('Really', 'people'), ('Really', 'around'), ('Really', 'here!'), ('hate', 'the'), ('hate', 'people'), ('hate', 'around'), ('hate', 'here!'), ('the', 'people'), ('the', 'around'), ('the', 'here!'), ('people', 'around'), ('people', 'here!'), ('around', 'here!')]\n",
      "[('Are', 'you'), ('Are', 'toxic?'), ('you', 'toxic?')]\n",
      "[('You', 'are'), ('You', 'really'), ('You', 'toxic!'), ('are', 'really'), ('are', 'toxic!'), ('really', 'toxic!')]\n",
      "[('No', 'way'), ('No', 'this'), ('No', 'post'), ('No', 'is'), ('No', 'toxic!'), ('way', 'this'), ('way', 'post'), ('way', 'is'), ('way', 'toxic!'), ('this', 'post'), ('this', 'is'), ('this', 'toxic!'), ('post', 'is'), ('post', 'toxic!'), ('is', 'toxic!')]\n",
      "[('Im', 'sick'), ('Im', 'of'), ('Im', 'all'), ('Im', 'the'), ('Im', 'politically'), ('Im', 'correct'), ('Im', 'rhetoric'), ('Im', 'going'), ('Im', 'out'), ('Im', 'there.'), ('sick', 'of'), ('sick', 'all'), ('sick', 'the'), ('sick', 'politically'), ('sick', 'correct'), ('sick', 'rhetoric'), ('sick', 'going'), ('sick', 'out'), ('sick', 'there.'), ('of', 'all'), ('of', 'the'), ('of', 'politically'), ('of', 'correct'), ('of', 'rhetoric'), ('of', 'going'), ('of', 'out'), ('of', 'there.'), ('all', 'the'), ('all', 'politically'), ('all', 'correct'), ('all', 'rhetoric'), ('all', 'going'), ('all', 'out'), ('all', 'there.'), ('the', 'politically'), ('the', 'correct'), ('the', 'rhetoric'), ('the', 'going'), ('the', 'out'), ('the', 'there.'), ('politically', 'correct'), ('politically', 'rhetoric'), ('politically', 'going'), ('politically', 'out'), ('politically', 'there.'), ('correct', 'rhetoric'), ('correct', 'going'), ('correct', 'out'), ('correct', 'there.'), ('rhetoric', 'going'), ('rhetoric', 'out'), ('rhetoric', 'there.'), ('going', 'out'), ('going', 'there.'), ('out', 'there.')]\n",
      "[('Test', '2'), ('Test', '-'), ('Test', 'Im'), ('Test', 'sick'), ('Test', 'of'), ('Test', 'all'), ('Test', 'the'), ('Test', 'politically'), ('Test', 'correct'), ('Test', 'rhetoric'), ('Test', 'going'), ('Test', 'out'), ('Test', 'there.'), ('2', '-'), ('2', 'Im'), ('2', 'sick'), ('2', 'of'), ('2', 'all'), ('2', 'the'), ('2', 'politically'), ('2', 'correct'), ('2', 'rhetoric'), ('2', 'going'), ('2', 'out'), ('2', 'there.'), ('-', 'Im'), ('-', 'sick'), ('-', 'of'), ('-', 'all'), ('-', 'the'), ('-', 'politically'), ('-', 'correct'), ('-', 'rhetoric'), ('-', 'going'), ('-', 'out'), ('-', 'there.'), ('Im', 'sick'), ('Im', 'of'), ('Im', 'all'), ('Im', 'the'), ('Im', 'politically'), ('Im', 'correct'), ('Im', 'rhetoric'), ('Im', 'going'), ('Im', 'out'), ('Im', 'there.'), ('sick', 'of'), ('sick', 'all'), ('sick', 'the'), ('sick', 'politically'), ('sick', 'correct'), ('sick', 'rhetoric'), ('sick', 'going'), ('sick', 'out'), ('sick', 'there.'), ('of', 'all'), ('of', 'the'), ('of', 'politically'), ('of', 'correct'), ('of', 'rhetoric'), ('of', 'going'), ('of', 'out'), ('of', 'there.'), ('all', 'the'), ('all', 'politically'), ('all', 'correct'), ('all', 'rhetoric'), ('all', 'going'), ('all', 'out'), ('all', 'there.'), ('the', 'politically'), ('the', 'correct'), ('the', 'rhetoric'), ('the', 'going'), ('the', 'out'), ('the', 'there.'), ('politically', 'correct'), ('politically', 'rhetoric'), ('politically', 'going'), ('politically', 'out'), ('politically', 'there.'), ('correct', 'rhetoric'), ('correct', 'going'), ('correct', 'out'), ('correct', 'there.'), ('rhetoric', 'going'), ('rhetoric', 'out'), ('rhetoric', 'there.'), ('going', 'out'), ('going', 'there.'), ('out', 'there.')]\n"
     ]
    }
   ],
   "source": [
    "for post in userdata['posts']:\n",
    "    msg = post['message'].split()\n",
    "    print(findsubsets(msg, 2))"
   ]
  },
  {
   "cell_type": "code",
   "execution_count": 4,
   "id": "6b6d72b4",
   "metadata": {},
   "outputs": [],
   "source": [
    "data = \"You and I are stupid!\""
   ]
  },
  {
   "cell_type": "code",
   "execution_count": 12,
   "id": "df583dce",
   "metadata": {},
   "outputs": [
    {
     "ename": "NameError",
     "evalue": "name 'data' is not defined",
     "output_type": "error",
     "traceback": [
      "\u001b[0;31m---------------------------------------------------------------------------\u001b[0m",
      "\u001b[0;31mNameError\u001b[0m                                 Traceback (most recent call last)",
      "\u001b[0;32m/var/folders/d5/r2v0z0z17nnfzysx1xgwf9jc0000gn/T/ipykernel_22798/3221088973.py\u001b[0m in \u001b[0;36m<module>\u001b[0;34m\u001b[0m\n\u001b[1;32m     23\u001b[0m \u001b[0;34m\u001b[0m\u001b[0m\n\u001b[1;32m     24\u001b[0m \u001b[0mmodel\u001b[0m \u001b[0;34m=\u001b[0m \u001b[0mDetoxify\u001b[0m\u001b[0;34m(\u001b[0m\u001b[0;34m'original'\u001b[0m\u001b[0;34m,\u001b[0m \u001b[0mdevice\u001b[0m\u001b[0;34m=\u001b[0m\u001b[0;34m'cpu'\u001b[0m\u001b[0;34m)\u001b[0m\u001b[0;34m\u001b[0m\u001b[0;34m\u001b[0m\u001b[0m\n\u001b[0;32m---> 25\u001b[0;31m \u001b[0mwords\u001b[0m \u001b[0;34m=\u001b[0m \u001b[0mword_combinations\u001b[0m\u001b[0;34m(\u001b[0m\u001b[0mdata\u001b[0m\u001b[0;34m)\u001b[0m\u001b[0;34m\u001b[0m\u001b[0;34m\u001b[0m\u001b[0m\n\u001b[0m\u001b[1;32m     26\u001b[0m \u001b[0mprint\u001b[0m\u001b[0;34m(\u001b[0m\u001b[0mwords\u001b[0m\u001b[0;34m)\u001b[0m\u001b[0;34m\u001b[0m\u001b[0;34m\u001b[0m\u001b[0m\n\u001b[1;32m     27\u001b[0m \u001b[0;34m\u001b[0m\u001b[0m\n",
      "\u001b[0;31mNameError\u001b[0m: name 'data' is not defined"
     ]
    }
   ],
   "source": [
    "import numpy as np\n",
    "def word_combinations(sentence):\n",
    "    data = sentence.split()\n",
    "    out = []\n",
    "    for j in range(0, len(data)+1):\n",
    "        for i in range(0, j):\n",
    "            data0 = data.copy()\n",
    "            words = data0[i:j]\n",
    "\n",
    "            for w in words: data0.remove(w)\n",
    "            out.append(w)\n",
    "            out.append(\" \".join(data0))\n",
    "    \n",
    "    #for i in range(len(out)):\n",
    "    #    if len(out[i])> 1:\n",
    "    #        out[i] = \" \".join(out[i])\n",
    "    out =  list(np.unique(out))\n",
    "    out.remove('')\n",
    "    return out\n",
    "\n",
    "\n",
    "from detoxify import Detoxify\n",
    "\n",
    "model = Detoxify('original', device='cpu')\n",
    "words = word_combinations(data)\n",
    "print(words)\n",
    "\n"
   ]
  },
  {
   "cell_type": "code",
   "execution_count": 6,
   "id": "66e1ae88",
   "metadata": {},
   "outputs": [],
   "source": [
    "preds = []\n",
    "\n",
    "for word in words:\n",
    "    pred = model.predict(word)\n",
    "    preds.append(pred)\n",
    "        "
   ]
  },
  {
   "cell_type": "code",
   "execution_count": 7,
   "id": "6c37d95c",
   "metadata": {},
   "outputs": [],
   "source": [
    "pred_0 = {'toxicity':0, 'severe_toxicity':0, 'obscene':0, 'threat': 0, 'insult':0, 'identity_hate':0}\n",
    "scores = {}\n",
    "for word in data.split():\n",
    "    scores[word] = pred_0.copy()\n",
    "\n",
    "for word, pred in zip(words, preds):\n",
    "    #print(word)\n",
    "    for w in word.split():\n",
    "        for cat in pred_0.keys():\n",
    "            scores[w][cat] += pred[cat]/len(words)\n",
    "            #print(w, cat, pred[cat])\n",
    "    \n"
   ]
  },
  {
   "cell_type": "code",
   "execution_count": 1,
   "id": "9a9cc0bc",
   "metadata": {},
   "outputs": [
    {
     "ename": "NameError",
     "evalue": "name 'scores' is not defined",
     "output_type": "error",
     "traceback": [
      "\u001b[0;31m---------------------------------------------------------------------------\u001b[0m",
      "\u001b[0;31mNameError\u001b[0m                                 Traceback (most recent call last)",
      "\u001b[0;32m/var/folders/d5/r2v0z0z17nnfzysx1xgwf9jc0000gn/T/ipykernel_4407/962501754.py\u001b[0m in \u001b[0;36m<module>\u001b[0;34m\u001b[0m\n\u001b[1;32m      1\u001b[0m \u001b[0;32mimport\u001b[0m \u001b[0mpandas\u001b[0m \u001b[0;32mas\u001b[0m \u001b[0mpd\u001b[0m\u001b[0;34m\u001b[0m\u001b[0;34m\u001b[0m\u001b[0m\n\u001b[0;32m----> 2\u001b[0;31m \u001b[0mdf\u001b[0m \u001b[0;34m=\u001b[0m \u001b[0mpd\u001b[0m\u001b[0;34m.\u001b[0m\u001b[0mDataFrame\u001b[0m\u001b[0;34m(\u001b[0m\u001b[0mscores\u001b[0m\u001b[0;34m)\u001b[0m\u001b[0;34m\u001b[0m\u001b[0;34m\u001b[0m\u001b[0m\n\u001b[0m\u001b[1;32m      3\u001b[0m \u001b[0;34m\u001b[0m\u001b[0m\n\u001b[1;32m      4\u001b[0m \u001b[0;34m\u001b[0m\u001b[0m\n\u001b[1;32m      5\u001b[0m \u001b[0mprint\u001b[0m\u001b[0;34m(\u001b[0m\u001b[0mdata\u001b[0m\u001b[0;34m,\u001b[0m \u001b[0mmodel\u001b[0m\u001b[0;34m.\u001b[0m\u001b[0mpredict\u001b[0m\u001b[0;34m(\u001b[0m\u001b[0mdata\u001b[0m\u001b[0;34m)\u001b[0m\u001b[0;34m)\u001b[0m\u001b[0;34m\u001b[0m\u001b[0;34m\u001b[0m\u001b[0m\n",
      "\u001b[0;31mNameError\u001b[0m: name 'scores' is not defined"
     ]
    }
   ],
   "source": [
    "\n",
    "import pandas as pd\n",
    "df = pd.DataFrame(scores)\n",
    "\n",
    "\n",
    "print(data, model.predict(data))\n",
    "print(df)\n",
    "print(df.sum(axis=0))"
   ]
  },
  {
   "cell_type": "code",
   "execution_count": 9,
   "id": "50c9388e",
   "metadata": {},
   "outputs": [
    {
     "data": {
      "text/plain": [
       "{'toxicity': 0.95099854,\n",
       " 'severe_toxicity': 0.007945027,\n",
       " 'obscene': 0.023724578,\n",
       " 'threat': 0.039169792,\n",
       " 'insult': 0.137607,\n",
       " 'identity_hate': 0.02070892}"
      ]
     },
     "execution_count": 9,
     "metadata": {},
     "output_type": "execute_result"
    }
   ],
   "source": [
    "model.predict('i hate you')"
   ]
  },
  {
   "cell_type": "code",
   "execution_count": 10,
   "id": "bd93f018",
   "metadata": {},
   "outputs": [],
   "source": [
    "from sklearn.datasets import fetch_20newsgroups\n",
    "\n",
    "categories = ['alt.atheism', 'soc.religion.christian',\n",
    "              'comp.graphics', 'sci.med']\n",
    "twenty_train = fetch_20newsgroups(\n",
    "    subset='train',\n",
    "    categories=categories,\n",
    "    shuffle=True,\n",
    "    random_state=42,\n",
    "    remove=('headers', 'footers'),\n",
    ")\n",
    "twenty_test = fetch_20newsgroups(\n",
    "    subset='test',\n",
    "    categories=categories,\n",
    "    shuffle=True,\n",
    "    random_state=42,\n",
    "    remove=('headers', 'footers'),\n",
    ")"
   ]
  },
  {
   "cell_type": "code",
   "execution_count": 11,
   "id": "38c23438",
   "metadata": {},
   "outputs": [
    {
     "data": {
      "text/plain": [
       "0.8901464713715047"
      ]
     },
     "execution_count": 11,
     "metadata": {},
     "output_type": "execute_result"
    }
   ],
   "source": [
    "from sklearn.feature_extraction.text import TfidfVectorizer\n",
    "from sklearn.svm import SVC\n",
    "from sklearn.decomposition import TruncatedSVD\n",
    "from sklearn.pipeline import Pipeline, make_pipeline\n",
    "\n",
    "vec = TfidfVectorizer(min_df=3, stop_words='english',\n",
    "                      ngram_range=(1, 2))\n",
    "svd = TruncatedSVD(n_components=100, n_iter=7, random_state=42)\n",
    "lsa = make_pipeline(vec, svd)\n",
    "\n",
    "clf = SVC(C=150, gamma=2e-2, probability=True)\n",
    "pipe = make_pipeline(lsa, clf)\n",
    "pipe.fit(twenty_train.data, twenty_train.target)\n",
    "pipe.score(twenty_test.data, twenty_test.target)\n"
   ]
  },
  {
   "cell_type": "code",
   "execution_count": 12,
   "id": "860eeae7",
   "metadata": {},
   "outputs": [
    {
     "name": "stdout",
     "output_type": "stream",
     "text": [
      "0.001 alt.atheism\n",
      "0.001 comp.graphics\n",
      "0.996 sci.med\n",
      "0.003 soc.religion.christian\n"
     ]
    }
   ],
   "source": [
    "def print_prediction(doc):\n",
    "    y_pred = pipe.predict_proba([doc])[0]\n",
    "    for target, prob in zip(twenty_train.target_names, y_pred):\n",
    "        print(\"{:.3f} {}\".format(prob, target))\n",
    "\n",
    "doc = twenty_test.data[0]\n",
    "print_prediction(doc)"
   ]
  },
  {
   "cell_type": "code",
   "execution_count": 13,
   "id": "46bc6afb",
   "metadata": {},
   "outputs": [
    {
     "name": "stderr",
     "output_type": "stream",
     "text": [
      "/Users/mansur/Work/Projects/venv/lib/python3.8/site-packages/sklearn/utils/deprecation.py:87: FutureWarning: Function get_feature_names is deprecated; get_feature_names is deprecated in 1.0 and will be removed in 1.2. Please use get_feature_names_out instead.\n",
      "  warnings.warn(msg, category=FutureWarning)\n"
     ]
    },
    {
     "data": {
      "text/html": [
       "\n",
       "    <style>\n",
       "    table.eli5-weights tr:hover {\n",
       "        filter: brightness(85%);\n",
       "    }\n",
       "</style>\n",
       "\n",
       "\n",
       "\n",
       "    \n",
       "\n",
       "    \n",
       "\n",
       "    \n",
       "\n",
       "    \n",
       "\n",
       "    \n",
       "\n",
       "    \n",
       "\n",
       "\n",
       "    \n",
       "\n",
       "    \n",
       "\n",
       "    \n",
       "\n",
       "    \n",
       "        \n",
       "\n",
       "    \n",
       "\n",
       "    \n",
       "        \n",
       "    \n",
       "        \n",
       "        \n",
       "    \n",
       "        <p style=\"margin-bottom: 0.5em; margin-top: 0em\">\n",
       "            <b>\n",
       "    \n",
       "        y=alt.atheism\n",
       "    \n",
       "</b>\n",
       "\n",
       "    \n",
       "    (probability <b>0.000</b>, score <b>-8.928</b>)\n",
       "\n",
       "top features\n",
       "        </p>\n",
       "    \n",
       "    <table class=\"eli5-weights\"\n",
       "           style=\"border-collapse: collapse; border: none; margin-top: 0em; table-layout: auto; margin-bottom: 2em;\">\n",
       "        <thead>\n",
       "        <tr style=\"border: none;\">\n",
       "            \n",
       "                <th style=\"padding: 0 1em 0 0.5em; text-align: right; border: none;\" title=\"Feature contribution already accounts for the feature value (for linear models, contribution = weight * feature value), and the sum of feature contributions is equal to the score or, for some classifiers, to the probability. Feature values are shown if &quot;show_feature_values&quot; is True.\">\n",
       "                    Contribution<sup>?</sup>\n",
       "                </th>\n",
       "            \n",
       "            <th style=\"padding: 0 0.5em 0 0.5em; text-align: left; border: none;\">Feature</th>\n",
       "            \n",
       "        </tr>\n",
       "        </thead>\n",
       "        <tbody>\n",
       "        \n",
       "        \n",
       "\n",
       "        \n",
       "        \n",
       "            <tr style=\"background-color: hsl(0, 100.00%, 97.68%); border: none;\">\n",
       "    <td style=\"padding: 0 1em 0 0.5em; text-align: right; border: none;\">\n",
       "        -0.408\n",
       "    </td>\n",
       "    <td style=\"padding: 0 0.5em 0 0.5em; text-align: left; border: none;\">\n",
       "        &lt;BIAS&gt;\n",
       "    </td>\n",
       "    \n",
       "</tr>\n",
       "        \n",
       "            <tr style=\"background-color: hsl(0, 100.00%, 80.52%); border: none;\">\n",
       "    <td style=\"padding: 0 1em 0 0.5em; text-align: right; border: none;\">\n",
       "        -8.520\n",
       "    </td>\n",
       "    <td style=\"padding: 0 0.5em 0 0.5em; text-align: left; border: none;\">\n",
       "        Highlighted in text (sum)\n",
       "    </td>\n",
       "    \n",
       "</tr>\n",
       "        \n",
       "\n",
       "        </tbody>\n",
       "    </table>\n",
       "\n",
       "    \n",
       "\n",
       "\n",
       "\n",
       "    <p style=\"margin-bottom: 2.5em; margin-top:-0.5em;\">\n",
       "        <span style=\"background-color: hsl(120, 100.00%, 94.12%); opacity: 0.81\" title=\"0.156\">as</span><span style=\"opacity: 0.80\"> </span><span style=\"background-color: hsl(0, 100.00%, 98.88%); opacity: 0.80\" title=\"-0.015\">i</span><span style=\"opacity: 0.80\"> </span><span style=\"background-color: hsl(0, 100.00%, 92.88%); opacity: 0.82\" title=\"-0.205\">recall</span><span style=\"opacity: 0.80\"> </span><span style=\"background-color: hsl(120, 100.00%, 94.68%); opacity: 0.81\" title=\"0.135\">from</span><span style=\"opacity: 0.80\"> </span><span style=\"background-color: hsl(120, 100.00%, 91.63%); opacity: 0.82\" title=\"0.259\">my</span><span style=\"opacity: 0.80\"> </span><span style=\"background-color: hsl(0, 100.00%, 96.72%); opacity: 0.81\" title=\"-0.068\">bout</span><span style=\"opacity: 0.80\"> </span><span style=\"background-color: hsl(0, 100.00%, 95.77%); opacity: 0.81\" title=\"-0.098\">with</span><span style=\"opacity: 0.80\"> </span><span style=\"background-color: hsl(0, 100.00%, 82.44%); opacity: 0.86\" title=\"-0.745\">kidney</span><span style=\"opacity: 0.80\"> </span><span style=\"background-color: hsl(0, 100.00%, 84.54%); opacity: 0.85\" title=\"-0.621\">stones</span><span style=\"opacity: 0.80\">, </span><span style=\"background-color: hsl(120, 100.00%, 97.83%); opacity: 0.80\" title=\"0.038\">there</span><span style=\"opacity: 0.80\"> </span><span style=\"background-color: hsl(120, 100.00%, 80.15%); opacity: 0.87\" title=\"0.888\">isn</span><span style=\"opacity: 0.80\">&#x27;</span><span style=\"background-color: hsl(120, 100.00%, 92.07%); opacity: 0.82\" title=\"0.239\">t</span><span style=\"opacity: 0.80\"> </span><span style=\"background-color: hsl(0, 100.00%, 94.65%); opacity: 0.81\" title=\"-0.137\">any</span><span style=\"opacity: 0.80\">\n",
       "</span><span style=\"background-color: hsl(0, 100.00%, 86.65%); opacity: 0.84\" title=\"-0.504\">medication</span><span style=\"opacity: 0.80\"> </span><span style=\"background-color: hsl(0, 100.00%, 90.86%); opacity: 0.82\" title=\"-0.293\">that</span><span style=\"opacity: 0.80\"> </span><span style=\"background-color: hsl(0, 100.00%, 95.56%); opacity: 0.81\" title=\"-0.104\">can</span><span style=\"opacity: 0.80\"> </span><span style=\"background-color: hsl(120, 100.00%, 91.09%); opacity: 0.82\" title=\"0.283\">do</span><span style=\"opacity: 0.80\"> </span><span style=\"background-color: hsl(120, 100.00%, 90.27%); opacity: 0.83\" title=\"0.321\">anything</span><span style=\"opacity: 0.80\"> </span><span style=\"background-color: hsl(0, 100.00%, 93.56%); opacity: 0.81\" title=\"-0.178\">about</span><span style=\"opacity: 0.80\"> </span><span style=\"background-color: hsl(0, 100.00%, 91.40%); opacity: 0.82\" title=\"-0.269\">them</span><span style=\"opacity: 0.80\"> except </span><span style=\"background-color: hsl(0, 100.00%, 94.86%); opacity: 0.81\" title=\"-0.129\">relieve</span><span style=\"opacity: 0.80\"> </span><span style=\"background-color: hsl(0, 100.00%, 97.61%); opacity: 0.80\" title=\"-0.043\">the</span><span style=\"opacity: 0.80\"> </span><span style=\"background-color: hsl(0, 100.00%, 80.35%); opacity: 0.87\" title=\"-0.875\">pain</span><span style=\"opacity: 0.80\">.\n",
       "\n",
       "</span><span style=\"background-color: hsl(120, 100.00%, 99.33%); opacity: 0.80\" title=\"0.007\">either</span><span style=\"opacity: 0.80\"> </span><span style=\"background-color: hsl(0, 100.00%, 93.74%); opacity: 0.81\" title=\"-0.171\">they</span><span style=\"opacity: 0.80\"> </span><span style=\"background-color: hsl(0, 100.00%, 92.45%); opacity: 0.82\" title=\"-0.223\">pass</span><span style=\"opacity: 0.80\">, </span><span style=\"background-color: hsl(120, 100.00%, 94.25%); opacity: 0.81\" title=\"0.151\">or</span><span style=\"opacity: 0.80\"> </span><span style=\"background-color: hsl(0, 100.00%, 98.82%); opacity: 0.80\" title=\"-0.016\">they</span><span style=\"opacity: 0.80\"> </span><span style=\"background-color: hsl(0, 100.00%, 99.81%); opacity: 0.80\" title=\"-0.001\">have</span><span style=\"opacity: 0.80\"> </span><span style=\"background-color: hsl(120, 100.00%, 89.90%); opacity: 0.83\" title=\"0.338\">to</span><span style=\"opacity: 0.80\"> </span><span style=\"background-color: hsl(120, 100.00%, 92.92%); opacity: 0.82\" title=\"0.203\">be</span><span style=\"opacity: 0.80\"> </span><span style=\"background-color: hsl(120, 100.00%, 92.28%); opacity: 0.82\" title=\"0.230\">broken</span><span style=\"opacity: 0.80\"> </span><span style=\"background-color: hsl(0, 100.00%, 97.32%); opacity: 0.80\" title=\"-0.051\">up</span><span style=\"opacity: 0.80\"> </span><span style=\"background-color: hsl(120, 100.00%, 98.56%); opacity: 0.80\" title=\"0.021\">with</span><span style=\"opacity: 0.80\"> </span><span style=\"background-color: hsl(0, 100.00%, 92.59%); opacity: 0.82\" title=\"-0.217\">sound</span><span style=\"opacity: 0.80\">, </span><span style=\"background-color: hsl(120, 100.00%, 92.97%); opacity: 0.82\" title=\"0.201\">or</span><span style=\"opacity: 0.80\"> </span><span style=\"background-color: hsl(0, 100.00%, 98.82%); opacity: 0.80\" title=\"-0.016\">they</span><span style=\"opacity: 0.80\"> </span><span style=\"background-color: hsl(0, 100.00%, 99.81%); opacity: 0.80\" title=\"-0.001\">have</span><span style=\"opacity: 0.80\">\n",
       "</span><span style=\"background-color: hsl(120, 100.00%, 89.90%); opacity: 0.83\" title=\"0.338\">to</span><span style=\"opacity: 0.80\"> </span><span style=\"background-color: hsl(120, 100.00%, 99.24%); opacity: 0.80\" title=\"0.008\">be</span><span style=\"opacity: 0.80\"> </span><span style=\"background-color: hsl(0, 100.00%, 93.90%); opacity: 0.81\" title=\"-0.164\">extracted</span><span style=\"opacity: 0.80\"> </span><span style=\"background-color: hsl(120, 100.00%, 98.76%); opacity: 0.80\" title=\"0.017\">surgically</span><span style=\"opacity: 0.80\">.\n",
       "\n",
       "</span><span style=\"background-color: hsl(0, 100.00%, 94.90%); opacity: 0.81\" title=\"-0.127\">when</span><span style=\"opacity: 0.80\"> </span><span style=\"background-color: hsl(0, 100.00%, 93.74%); opacity: 0.81\" title=\"-0.171\">i</span><span style=\"opacity: 0.80\"> </span><span style=\"background-color: hsl(0, 100.00%, 93.92%); opacity: 0.81\" title=\"-0.164\">was</span><span style=\"opacity: 0.80\"> </span><span style=\"background-color: hsl(120, 100.00%, 98.86%); opacity: 0.80\" title=\"0.015\">in</span><span style=\"opacity: 0.80\">, </span><span style=\"background-color: hsl(0, 100.00%, 95.56%); opacity: 0.81\" title=\"-0.104\">the</span><span style=\"opacity: 0.80\"> x-</span><span style=\"background-color: hsl(0, 100.00%, 93.80%); opacity: 0.81\" title=\"-0.168\">ray</span><span style=\"opacity: 0.80\"> </span><span style=\"background-color: hsl(0, 100.00%, 95.88%); opacity: 0.81\" title=\"-0.094\">tech</span><span style=\"opacity: 0.80\"> </span><span style=\"background-color: hsl(0, 100.00%, 96.03%); opacity: 0.81\" title=\"-0.089\">happened</span><span style=\"opacity: 0.80\"> </span><span style=\"background-color: hsl(0, 100.00%, 95.15%); opacity: 0.81\" title=\"-0.119\">to</span><span style=\"opacity: 0.80\"> </span><span style=\"background-color: hsl(120, 100.00%, 88.45%); opacity: 0.83\" title=\"0.410\">mention</span><span style=\"opacity: 0.80\"> </span><span style=\"background-color: hsl(120, 100.00%, 96.24%); opacity: 0.81\" title=\"0.082\">that</span><span style=\"opacity: 0.80\"> </span><span style=\"background-color: hsl(0, 100.00%, 98.13%); opacity: 0.80\" title=\"-0.030\">she</span><span style=\"opacity: 0.80\">&#x27;</span><span style=\"background-color: hsl(0, 100.00%, 93.79%); opacity: 0.81\" title=\"-0.169\">d</span><span style=\"opacity: 0.80\"> </span><span style=\"background-color: hsl(0, 100.00%, 94.05%); opacity: 0.81\" title=\"-0.159\">had</span><span style=\"opacity: 0.80\"> </span><span style=\"background-color: hsl(0, 100.00%, 82.44%); opacity: 0.86\" title=\"-0.745\">kidney</span><span style=\"opacity: 0.80\">\n",
       "</span><span style=\"background-color: hsl(0, 100.00%, 84.54%); opacity: 0.85\" title=\"-0.621\">stones</span><span style=\"opacity: 0.80\"> </span><span style=\"background-color: hsl(0, 100.00%, 94.07%); opacity: 0.81\" title=\"-0.158\">and</span><span style=\"opacity: 0.80\"> </span><span style=\"background-color: hsl(0, 100.00%, 91.88%); opacity: 0.82\" title=\"-0.248\">children</span><span style=\"opacity: 0.80\">, </span><span style=\"background-color: hsl(0, 100.00%, 93.85%); opacity: 0.81\" title=\"-0.166\">and</span><span style=\"opacity: 0.80\"> </span><span style=\"background-color: hsl(0, 100.00%, 93.49%); opacity: 0.81\" title=\"-0.180\">the</span><span style=\"opacity: 0.80\"> </span><span style=\"background-color: hsl(0, 100.00%, 95.50%); opacity: 0.81\" title=\"-0.107\">childbirth</span><span style=\"opacity: 0.80\"> </span><span style=\"background-color: hsl(0, 100.00%, 95.83%); opacity: 0.81\" title=\"-0.096\">hurt</span><span style=\"opacity: 0.80\"> </span><span style=\"background-color: hsl(120, 100.00%, 95.05%); opacity: 0.81\" title=\"0.122\">less</span><span style=\"opacity: 0.80\">.</span>\n",
       "    </p>\n",
       "\n",
       "    \n",
       "        \n",
       "    \n",
       "        \n",
       "        \n",
       "    \n",
       "        <p style=\"margin-bottom: 0.5em; margin-top: 0em\">\n",
       "            <b>\n",
       "    \n",
       "        y=comp.graphics\n",
       "    \n",
       "</b>\n",
       "\n",
       "    \n",
       "    (probability <b>0.000</b>, score <b>-9.108</b>)\n",
       "\n",
       "top features\n",
       "        </p>\n",
       "    \n",
       "    <table class=\"eli5-weights\"\n",
       "           style=\"border-collapse: collapse; border: none; margin-top: 0em; table-layout: auto; margin-bottom: 2em;\">\n",
       "        <thead>\n",
       "        <tr style=\"border: none;\">\n",
       "            \n",
       "                <th style=\"padding: 0 1em 0 0.5em; text-align: right; border: none;\" title=\"Feature contribution already accounts for the feature value (for linear models, contribution = weight * feature value), and the sum of feature contributions is equal to the score or, for some classifiers, to the probability. Feature values are shown if &quot;show_feature_values&quot; is True.\">\n",
       "                    Contribution<sup>?</sup>\n",
       "                </th>\n",
       "            \n",
       "            <th style=\"padding: 0 0.5em 0 0.5em; text-align: left; border: none;\">Feature</th>\n",
       "            \n",
       "        </tr>\n",
       "        </thead>\n",
       "        <tbody>\n",
       "        \n",
       "        \n",
       "\n",
       "        \n",
       "        \n",
       "            <tr style=\"background-color: hsl(0, 100.00%, 98.30%); border: none;\">\n",
       "    <td style=\"padding: 0 1em 0 0.5em; text-align: right; border: none;\">\n",
       "        -0.262\n",
       "    </td>\n",
       "    <td style=\"padding: 0 0.5em 0 0.5em; text-align: left; border: none;\">\n",
       "        &lt;BIAS&gt;\n",
       "    </td>\n",
       "    \n",
       "</tr>\n",
       "        \n",
       "            <tr style=\"background-color: hsl(0, 100.00%, 80.00%); border: none;\">\n",
       "    <td style=\"padding: 0 1em 0 0.5em; text-align: right; border: none;\">\n",
       "        -8.845\n",
       "    </td>\n",
       "    <td style=\"padding: 0 0.5em 0 0.5em; text-align: left; border: none;\">\n",
       "        Highlighted in text (sum)\n",
       "    </td>\n",
       "    \n",
       "</tr>\n",
       "        \n",
       "\n",
       "        </tbody>\n",
       "    </table>\n",
       "\n",
       "    \n",
       "\n",
       "\n",
       "\n",
       "    <p style=\"margin-bottom: 2.5em; margin-top:-0.5em;\">\n",
       "        <span style=\"background-color: hsl(0, 100.00%, 98.22%); opacity: 0.80\" title=\"-0.028\">as</span><span style=\"opacity: 0.80\"> i </span><span style=\"background-color: hsl(0, 100.00%, 87.30%); opacity: 0.84\" title=\"-0.469\">recall</span><span style=\"opacity: 0.80\"> </span><span style=\"background-color: hsl(120, 100.00%, 94.88%); opacity: 0.81\" title=\"0.128\">from</span><span style=\"opacity: 0.80\"> </span><span style=\"background-color: hsl(120, 100.00%, 94.01%); opacity: 0.81\" title=\"0.160\">my</span><span style=\"opacity: 0.80\"> </span><span style=\"background-color: hsl(120, 100.00%, 95.49%); opacity: 0.81\" title=\"0.107\">bout</span><span style=\"opacity: 0.80\"> </span><span style=\"background-color: hsl(0, 100.00%, 93.07%); opacity: 0.82\" title=\"-0.197\">with</span><span style=\"opacity: 0.80\"> </span><span style=\"background-color: hsl(0, 100.00%, 78.76%); opacity: 0.88\" title=\"-0.978\">kidney</span><span style=\"opacity: 0.80\"> </span><span style=\"background-color: hsl(0, 100.00%, 80.25%); opacity: 0.87\" title=\"-0.881\">stones</span><span style=\"opacity: 0.80\">, there </span><span style=\"background-color: hsl(0, 100.00%, 90.38%); opacity: 0.83\" title=\"-0.315\">isn</span><span style=\"opacity: 0.80\">&#x27;</span><span style=\"background-color: hsl(120, 100.00%, 95.52%); opacity: 0.81\" title=\"0.106\">t</span><span style=\"opacity: 0.80\"> </span><span style=\"background-color: hsl(120, 100.00%, 98.04%); opacity: 0.80\" title=\"0.032\">any</span><span style=\"opacity: 0.80\">\n",
       "</span><span style=\"background-color: hsl(0, 100.00%, 82.16%); opacity: 0.86\" title=\"-0.762\">medication</span><span style=\"opacity: 0.80\"> that </span><span style=\"background-color: hsl(0, 100.00%, 97.18%); opacity: 0.80\" title=\"-0.055\">can</span><span style=\"opacity: 0.80\"> </span><span style=\"background-color: hsl(0, 100.00%, 97.24%); opacity: 0.80\" title=\"-0.053\">do</span><span style=\"opacity: 0.80\"> </span><span style=\"background-color: hsl(0, 100.00%, 96.69%); opacity: 0.81\" title=\"-0.069\">anything</span><span style=\"opacity: 0.80\"> about </span><span style=\"background-color: hsl(120, 100.00%, 93.69%); opacity: 0.81\" title=\"0.173\">them</span><span style=\"opacity: 0.80\"> </span><span style=\"background-color: hsl(120, 100.00%, 94.51%); opacity: 0.81\" title=\"0.141\">except</span><span style=\"opacity: 0.80\"> </span><span style=\"background-color: hsl(0, 100.00%, 94.21%); opacity: 0.81\" title=\"-0.153\">relieve</span><span style=\"opacity: 0.80\"> </span><span style=\"background-color: hsl(0, 100.00%, 90.92%); opacity: 0.82\" title=\"-0.290\">the</span><span style=\"opacity: 0.80\"> </span><span style=\"background-color: hsl(0, 100.00%, 63.83%); opacity: 0.97\" title=\"-2.091\">pain</span><span style=\"opacity: 0.80\">.\n",
       "\n",
       "</span><span style=\"background-color: hsl(0, 100.00%, 95.33%); opacity: 0.81\" title=\"-0.112\">either</span><span style=\"opacity: 0.80\"> </span><span style=\"background-color: hsl(120, 100.00%, 95.26%); opacity: 0.81\" title=\"0.115\">they</span><span style=\"opacity: 0.80\"> </span><span style=\"background-color: hsl(120, 100.00%, 96.84%); opacity: 0.81\" title=\"0.064\">pass</span><span style=\"opacity: 0.80\">, </span><span style=\"background-color: hsl(0, 100.00%, 97.97%); opacity: 0.80\" title=\"-0.034\">or</span><span style=\"opacity: 0.80\"> </span><span style=\"background-color: hsl(0, 100.00%, 96.80%); opacity: 0.81\" title=\"-0.065\">they</span><span style=\"opacity: 0.80\"> </span><span style=\"background-color: hsl(0, 100.00%, 97.81%); opacity: 0.80\" title=\"-0.038\">have</span><span style=\"opacity: 0.80\"> </span><span style=\"background-color: hsl(120, 100.00%, 96.32%); opacity: 0.81\" title=\"0.080\">to</span><span style=\"opacity: 0.80\"> </span><span style=\"background-color: hsl(0, 100.00%, 97.78%); opacity: 0.80\" title=\"-0.039\">be</span><span style=\"opacity: 0.80\"> </span><span style=\"background-color: hsl(120, 100.00%, 98.81%); opacity: 0.80\" title=\"0.016\">broken</span><span style=\"opacity: 0.80\"> </span><span style=\"background-color: hsl(120, 100.00%, 94.92%); opacity: 0.81\" title=\"0.127\">up</span><span style=\"opacity: 0.80\"> </span><span style=\"background-color: hsl(0, 100.00%, 93.07%); opacity: 0.82\" title=\"-0.197\">with</span><span style=\"opacity: 0.80\"> </span><span style=\"background-color: hsl(0, 100.00%, 96.51%); opacity: 0.81\" title=\"-0.074\">sound</span><span style=\"opacity: 0.80\">, </span><span style=\"background-color: hsl(0, 100.00%, 97.97%); opacity: 0.80\" title=\"-0.034\">or</span><span style=\"opacity: 0.80\"> </span><span style=\"background-color: hsl(0, 100.00%, 96.80%); opacity: 0.81\" title=\"-0.065\">they</span><span style=\"opacity: 0.80\"> </span><span style=\"background-color: hsl(0, 100.00%, 97.81%); opacity: 0.80\" title=\"-0.038\">have</span><span style=\"opacity: 0.80\">\n",
       "</span><span style=\"background-color: hsl(120, 100.00%, 96.32%); opacity: 0.81\" title=\"0.080\">to</span><span style=\"opacity: 0.80\"> </span><span style=\"background-color: hsl(0, 100.00%, 97.78%); opacity: 0.80\" title=\"-0.039\">be</span><span style=\"opacity: 0.80\"> </span><span style=\"background-color: hsl(120, 100.00%, 96.30%); opacity: 0.81\" title=\"0.080\">extracted</span><span style=\"opacity: 0.80\"> </span><span style=\"background-color: hsl(120, 100.00%, 97.84%); opacity: 0.80\" title=\"0.037\">surgically</span><span style=\"opacity: 0.80\">.\n",
       "\n",
       "</span><span style=\"background-color: hsl(120, 100.00%, 96.59%); opacity: 0.81\" title=\"0.072\">when</span><span style=\"opacity: 0.80\"> </span><span style=\"background-color: hsl(120, 100.00%, 96.59%); opacity: 0.81\" title=\"0.072\">i</span><span style=\"opacity: 0.80\"> </span><span style=\"background-color: hsl(0, 100.00%, 93.86%); opacity: 0.81\" title=\"-0.166\">was</span><span style=\"opacity: 0.80\"> </span><span style=\"background-color: hsl(120, 100.00%, 97.70%); opacity: 0.80\" title=\"0.041\">in</span><span style=\"opacity: 0.80\">, </span><span style=\"background-color: hsl(120, 100.00%, 99.23%); opacity: 0.80\" title=\"0.009\">the</span><span style=\"opacity: 0.80\"> </span><span style=\"background-color: hsl(120, 100.00%, 96.24%); opacity: 0.81\" title=\"0.082\">x</span><span style=\"opacity: 0.80\">-</span><span style=\"background-color: hsl(120, 100.00%, 74.26%); opacity: 0.91\" title=\"1.287\">ray</span><span style=\"opacity: 0.80\"> </span><span style=\"background-color: hsl(0, 100.00%, 97.79%); opacity: 0.80\" title=\"-0.039\">tech</span><span style=\"opacity: 0.80\"> </span><span style=\"background-color: hsl(0, 100.00%, 89.95%); opacity: 0.83\" title=\"-0.336\">happened</span><span style=\"opacity: 0.80\"> </span><span style=\"background-color: hsl(120, 100.00%, 96.06%); opacity: 0.81\" title=\"0.088\">to</span><span style=\"opacity: 0.80\"> </span><span style=\"background-color: hsl(120, 100.00%, 96.64%); opacity: 0.81\" title=\"0.070\">mention</span><span style=\"opacity: 0.80\"> that she&#x27;</span><span style=\"background-color: hsl(0, 100.00%, 97.15%); opacity: 0.80\" title=\"-0.056\">d</span><span style=\"opacity: 0.80\"> </span><span style=\"background-color: hsl(0, 100.00%, 96.67%); opacity: 0.81\" title=\"-0.069\">had</span><span style=\"opacity: 0.80\"> </span><span style=\"background-color: hsl(0, 100.00%, 78.76%); opacity: 0.88\" title=\"-0.978\">kidney</span><span style=\"opacity: 0.80\">\n",
       "</span><span style=\"background-color: hsl(0, 100.00%, 80.25%); opacity: 0.87\" title=\"-0.881\">stones</span><span style=\"opacity: 0.80\"> </span><span style=\"background-color: hsl(0, 100.00%, 94.25%); opacity: 0.81\" title=\"-0.151\">and</span><span style=\"opacity: 0.80\"> </span><span style=\"background-color: hsl(0, 100.00%, 84.26%); opacity: 0.85\" title=\"-0.637\">children</span><span style=\"opacity: 0.80\">, </span><span style=\"background-color: hsl(120, 100.00%, 99.58%); opacity: 0.80\" title=\"0.004\">and</span><span style=\"opacity: 0.80\"> </span><span style=\"background-color: hsl(120, 100.00%, 91.29%); opacity: 0.82\" title=\"0.273\">the</span><span style=\"opacity: 0.80\"> </span><span style=\"background-color: hsl(120, 100.00%, 93.97%); opacity: 0.81\" title=\"0.162\">childbirth</span><span style=\"opacity: 0.80\"> </span><span style=\"background-color: hsl(0, 100.00%, 89.67%); opacity: 0.83\" title=\"-0.349\">hurt</span><span style=\"opacity: 0.80\"> less.</span>\n",
       "    </p>\n",
       "\n",
       "    \n",
       "        \n",
       "    \n",
       "        \n",
       "        \n",
       "    \n",
       "        <p style=\"margin-bottom: 0.5em; margin-top: 0em\">\n",
       "            <b>\n",
       "    \n",
       "        y=sci.med\n",
       "    \n",
       "</b>\n",
       "\n",
       "    \n",
       "    (probability <b>0.997</b>, score <b>7.133</b>)\n",
       "\n",
       "top features\n",
       "        </p>\n",
       "    \n",
       "    <table class=\"eli5-weights\"\n",
       "           style=\"border-collapse: collapse; border: none; margin-top: 0em; table-layout: auto; margin-bottom: 2em;\">\n",
       "        <thead>\n",
       "        <tr style=\"border: none;\">\n",
       "            \n",
       "                <th style=\"padding: 0 1em 0 0.5em; text-align: right; border: none;\" title=\"Feature contribution already accounts for the feature value (for linear models, contribution = weight * feature value), and the sum of feature contributions is equal to the score or, for some classifiers, to the probability. Feature values are shown if &quot;show_feature_values&quot; is True.\">\n",
       "                    Contribution<sup>?</sup>\n",
       "                </th>\n",
       "            \n",
       "            <th style=\"padding: 0 0.5em 0 0.5em; text-align: left; border: none;\">Feature</th>\n",
       "            \n",
       "        </tr>\n",
       "        </thead>\n",
       "        <tbody>\n",
       "        \n",
       "            <tr style=\"background-color: hsl(120, 100.00%, 82.73%); border: none;\">\n",
       "    <td style=\"padding: 0 1em 0 0.5em; text-align: right; border: none;\">\n",
       "        +7.169\n",
       "    </td>\n",
       "    <td style=\"padding: 0 0.5em 0 0.5em; text-align: left; border: none;\">\n",
       "        Highlighted in text (sum)\n",
       "    </td>\n",
       "    \n",
       "</tr>\n",
       "        \n",
       "        \n",
       "\n",
       "        \n",
       "        \n",
       "            <tr style=\"background-color: hsl(0, 100.00%, 99.58%); border: none;\">\n",
       "    <td style=\"padding: 0 1em 0 0.5em; text-align: right; border: none;\">\n",
       "        -0.036\n",
       "    </td>\n",
       "    <td style=\"padding: 0 0.5em 0 0.5em; text-align: left; border: none;\">\n",
       "        &lt;BIAS&gt;\n",
       "    </td>\n",
       "    \n",
       "</tr>\n",
       "        \n",
       "\n",
       "        </tbody>\n",
       "    </table>\n",
       "\n",
       "    \n",
       "\n",
       "\n",
       "\n",
       "    <p style=\"margin-bottom: 2.5em; margin-top:-0.5em;\">\n",
       "        <span style=\"background-color: hsl(120, 100.00%, 96.42%); opacity: 0.81\" title=\"0.077\">as</span><span style=\"opacity: 0.80\"> </span><span style=\"background-color: hsl(120, 100.00%, 96.61%); opacity: 0.81\" title=\"0.071\">i</span><span style=\"opacity: 0.80\"> </span><span style=\"background-color: hsl(120, 100.00%, 86.16%); opacity: 0.84\" title=\"0.530\">recall</span><span style=\"opacity: 0.80\"> from </span><span style=\"background-color: hsl(120, 100.00%, 98.82%); opacity: 0.80\" title=\"0.016\">my</span><span style=\"opacity: 0.80\"> bout </span><span style=\"background-color: hsl(120, 100.00%, 95.74%); opacity: 0.81\" title=\"0.099\">with</span><span style=\"opacity: 0.80\"> </span><span style=\"background-color: hsl(120, 100.00%, 77.56%); opacity: 0.89\" title=\"1.057\">kidney</span><span style=\"opacity: 0.80\"> </span><span style=\"background-color: hsl(120, 100.00%, 79.58%); opacity: 0.88\" title=\"0.924\">stones</span><span style=\"opacity: 0.80\">, there </span><span style=\"background-color: hsl(0, 100.00%, 95.43%); opacity: 0.81\" title=\"-0.109\">isn</span><span style=\"opacity: 0.80\">&#x27;</span><span style=\"background-color: hsl(0, 100.00%, 99.40%); opacity: 0.80\" title=\"-0.006\">t</span><span style=\"opacity: 0.80\"> any\n",
       "</span><span style=\"background-color: hsl(120, 100.00%, 80.56%); opacity: 0.87\" title=\"0.862\">medication</span><span style=\"opacity: 0.80\"> </span><span style=\"background-color: hsl(0, 100.00%, 98.34%); opacity: 0.80\" title=\"-0.026\">that</span><span style=\"opacity: 0.80\"> </span><span style=\"background-color: hsl(0, 100.00%, 94.04%); opacity: 0.81\" title=\"-0.159\">can</span><span style=\"opacity: 0.80\"> </span><span style=\"background-color: hsl(0, 100.00%, 94.31%); opacity: 0.81\" title=\"-0.149\">do</span><span style=\"opacity: 0.80\"> </span><span style=\"background-color: hsl(0, 100.00%, 96.73%); opacity: 0.81\" title=\"-0.067\">anything</span><span style=\"opacity: 0.80\"> </span><span style=\"background-color: hsl(120, 100.00%, 96.37%); opacity: 0.81\" title=\"0.078\">about</span><span style=\"opacity: 0.80\"> </span><span style=\"background-color: hsl(0, 100.00%, 96.32%); opacity: 0.81\" title=\"-0.080\">them</span><span style=\"opacity: 0.80\"> </span><span style=\"background-color: hsl(0, 100.00%, 98.27%); opacity: 0.80\" title=\"-0.027\">except</span><span style=\"opacity: 0.80\"> </span><span style=\"background-color: hsl(120, 100.00%, 94.09%); opacity: 0.81\" title=\"0.157\">relieve</span><span style=\"opacity: 0.80\"> </span><span style=\"background-color: hsl(120, 100.00%, 92.00%); opacity: 0.82\" title=\"0.242\">the</span><span style=\"opacity: 0.80\"> </span><span style=\"background-color: hsl(120, 100.00%, 60.00%); opacity: 1.00\" title=\"2.415\">pain</span><span style=\"opacity: 0.80\">.\n",
       "\n",
       "</span><span style=\"background-color: hsl(120, 100.00%, 98.07%); opacity: 0.80\" title=\"0.032\">either</span><span style=\"opacity: 0.80\"> </span><span style=\"background-color: hsl(0, 100.00%, 95.24%); opacity: 0.81\" title=\"-0.115\">they</span><span style=\"opacity: 0.80\"> </span><span style=\"background-color: hsl(0, 100.00%, 96.09%); opacity: 0.81\" title=\"-0.087\">pass</span><span style=\"opacity: 0.80\">, </span><span style=\"background-color: hsl(120, 100.00%, 98.77%); opacity: 0.80\" title=\"0.017\">or</span><span style=\"opacity: 0.80\"> </span><span style=\"background-color: hsl(0, 100.00%, 96.73%); opacity: 0.81\" title=\"-0.067\">they</span><span style=\"opacity: 0.80\"> </span><span style=\"background-color: hsl(120, 100.00%, 97.77%); opacity: 0.80\" title=\"0.039\">have</span><span style=\"opacity: 0.80\"> </span><span style=\"background-color: hsl(0, 100.00%, 98.27%); opacity: 0.80\" title=\"-0.027\">to</span><span style=\"opacity: 0.80\"> </span><span style=\"background-color: hsl(120, 100.00%, 95.63%); opacity: 0.81\" title=\"0.102\">be</span><span style=\"opacity: 0.80\"> </span><span style=\"background-color: hsl(0, 100.00%, 92.87%); opacity: 0.82\" title=\"-0.206\">broken</span><span style=\"opacity: 0.80\"> </span><span style=\"background-color: hsl(0, 100.00%, 94.18%); opacity: 0.81\" title=\"-0.154\">up</span><span style=\"opacity: 0.80\"> </span><span style=\"background-color: hsl(120, 100.00%, 95.74%); opacity: 0.81\" title=\"0.099\">with</span><span style=\"opacity: 0.80\"> </span><span style=\"background-color: hsl(120, 100.00%, 95.59%); opacity: 0.81\" title=\"0.103\">sound</span><span style=\"opacity: 0.80\">, </span><span style=\"background-color: hsl(120, 100.00%, 98.77%); opacity: 0.80\" title=\"0.017\">or</span><span style=\"opacity: 0.80\"> </span><span style=\"background-color: hsl(0, 100.00%, 96.73%); opacity: 0.81\" title=\"-0.067\">they</span><span style=\"opacity: 0.80\"> </span><span style=\"background-color: hsl(120, 100.00%, 97.77%); opacity: 0.80\" title=\"0.039\">have</span><span style=\"opacity: 0.80\">\n",
       "</span><span style=\"background-color: hsl(0, 100.00%, 98.27%); opacity: 0.80\" title=\"-0.027\">to</span><span style=\"opacity: 0.80\"> </span><span style=\"background-color: hsl(0, 100.00%, 98.29%); opacity: 0.80\" title=\"-0.027\">be</span><span style=\"opacity: 0.80\"> </span><span style=\"background-color: hsl(0, 100.00%, 92.38%); opacity: 0.82\" title=\"-0.226\">extracted</span><span style=\"opacity: 0.80\"> </span><span style=\"background-color: hsl(120, 100.00%, 97.18%); opacity: 0.80\" title=\"0.055\">surgically</span><span style=\"opacity: 0.80\">.\n",
       "\n",
       "when i </span><span style=\"background-color: hsl(120, 100.00%, 96.72%); opacity: 0.81\" title=\"0.068\">was</span><span style=\"opacity: 0.80\"> </span><span style=\"background-color: hsl(120, 100.00%, 96.73%); opacity: 0.81\" title=\"0.067\">in</span><span style=\"opacity: 0.80\">, </span><span style=\"background-color: hsl(0, 100.00%, 98.70%); opacity: 0.80\" title=\"-0.018\">the</span><span style=\"opacity: 0.80\"> </span><span style=\"background-color: hsl(0, 100.00%, 96.29%); opacity: 0.81\" title=\"-0.081\">x</span><span style=\"opacity: 0.80\">-</span><span style=\"background-color: hsl(0, 100.00%, 83.16%); opacity: 0.86\" title=\"-0.701\">ray</span><span style=\"opacity: 0.80\"> </span><span style=\"background-color: hsl(120, 100.00%, 91.08%); opacity: 0.82\" title=\"0.283\">tech</span><span style=\"opacity: 0.80\"> </span><span style=\"background-color: hsl(0, 100.00%, 93.48%); opacity: 0.81\" title=\"-0.181\">happened</span><span style=\"opacity: 0.80\"> </span><span style=\"background-color: hsl(0, 100.00%, 93.80%); opacity: 0.81\" title=\"-0.169\">to</span><span style=\"opacity: 0.80\"> </span><span style=\"background-color: hsl(0, 100.00%, 91.77%); opacity: 0.82\" title=\"-0.252\">mention</span><span style=\"opacity: 0.80\"> that she&#x27;d had </span><span style=\"background-color: hsl(120, 100.00%, 77.56%); opacity: 0.89\" title=\"1.057\">kidney</span><span style=\"opacity: 0.80\">\n",
       "</span><span style=\"background-color: hsl(120, 100.00%, 79.58%); opacity: 0.88\" title=\"0.924\">stones</span><span style=\"opacity: 0.80\"> </span><span style=\"background-color: hsl(120, 100.00%, 95.31%); opacity: 0.81\" title=\"0.113\">and</span><span style=\"opacity: 0.80\"> </span><span style=\"background-color: hsl(0, 100.00%, 98.83%); opacity: 0.80\" title=\"-0.016\">children</span><span style=\"opacity: 0.80\">, </span><span style=\"background-color: hsl(120, 100.00%, 95.77%); opacity: 0.81\" title=\"0.097\">and</span><span style=\"opacity: 0.80\"> </span><span style=\"background-color: hsl(0, 100.00%, 92.65%); opacity: 0.82\" title=\"-0.215\">the</span><span style=\"opacity: 0.80\"> </span><span style=\"background-color: hsl(0, 100.00%, 93.09%); opacity: 0.82\" title=\"-0.196\">childbirth</span><span style=\"opacity: 0.80\"> </span><span style=\"background-color: hsl(120, 100.00%, 90.86%); opacity: 0.82\" title=\"0.293\">hurt</span><span style=\"opacity: 0.80\"> less.</span>\n",
       "    </p>\n",
       "\n",
       "    \n",
       "        \n",
       "    \n",
       "        \n",
       "        \n",
       "    \n",
       "        <p style=\"margin-bottom: 0.5em; margin-top: 0em\">\n",
       "            <b>\n",
       "    \n",
       "        y=soc.religion.christian\n",
       "    \n",
       "</b>\n",
       "\n",
       "    \n",
       "    (probability <b>0.003</b>, score <b>-5.866</b>)\n",
       "\n",
       "top features\n",
       "        </p>\n",
       "    \n",
       "    <table class=\"eli5-weights\"\n",
       "           style=\"border-collapse: collapse; border: none; margin-top: 0em; table-layout: auto; margin-bottom: 2em;\">\n",
       "        <thead>\n",
       "        <tr style=\"border: none;\">\n",
       "            \n",
       "                <th style=\"padding: 0 1em 0 0.5em; text-align: right; border: none;\" title=\"Feature contribution already accounts for the feature value (for linear models, contribution = weight * feature value), and the sum of feature contributions is equal to the score or, for some classifiers, to the probability. Feature values are shown if &quot;show_feature_values&quot; is True.\">\n",
       "                    Contribution<sup>?</sup>\n",
       "                </th>\n",
       "            \n",
       "            <th style=\"padding: 0 0.5em 0 0.5em; text-align: left; border: none;\">Feature</th>\n",
       "            \n",
       "        </tr>\n",
       "        </thead>\n",
       "        <tbody>\n",
       "        \n",
       "        \n",
       "\n",
       "        \n",
       "        \n",
       "            <tr style=\"background-color: hsl(0, 100.00%, 97.97%); border: none;\">\n",
       "    <td style=\"padding: 0 1em 0 0.5em; text-align: right; border: none;\">\n",
       "        -0.336\n",
       "    </td>\n",
       "    <td style=\"padding: 0 0.5em 0 0.5em; text-align: left; border: none;\">\n",
       "        &lt;BIAS&gt;\n",
       "    </td>\n",
       "    \n",
       "</tr>\n",
       "        \n",
       "            <tr style=\"background-color: hsl(0, 100.00%, 85.60%); border: none;\">\n",
       "    <td style=\"padding: 0 1em 0 0.5em; text-align: right; border: none;\">\n",
       "        -5.530\n",
       "    </td>\n",
       "    <td style=\"padding: 0 0.5em 0 0.5em; text-align: left; border: none;\">\n",
       "        Highlighted in text (sum)\n",
       "    </td>\n",
       "    \n",
       "</tr>\n",
       "        \n",
       "\n",
       "        </tbody>\n",
       "    </table>\n",
       "\n",
       "    \n",
       "\n",
       "\n",
       "\n",
       "    <p style=\"margin-bottom: 2.5em; margin-top:-0.5em;\">\n",
       "        <span style=\"background-color: hsl(0, 100.00%, 95.67%); opacity: 0.81\" title=\"-0.101\">as</span><span style=\"opacity: 0.80\"> </span><span style=\"background-color: hsl(0, 100.00%, 97.46%); opacity: 0.80\" title=\"-0.047\">i</span><span style=\"opacity: 0.80\"> </span><span style=\"background-color: hsl(0, 100.00%, 89.77%); opacity: 0.83\" title=\"-0.344\">recall</span><span style=\"opacity: 0.80\"> </span><span style=\"background-color: hsl(120, 100.00%, 97.57%); opacity: 0.80\" title=\"0.044\">from</span><span style=\"opacity: 0.80\"> </span><span style=\"background-color: hsl(0, 100.00%, 95.66%); opacity: 0.81\" title=\"-0.101\">my</span><span style=\"opacity: 0.80\"> </span><span style=\"background-color: hsl(120, 100.00%, 93.99%); opacity: 0.81\" title=\"0.161\">bout</span><span style=\"opacity: 0.80\"> </span><span style=\"background-color: hsl(120, 100.00%, 94.68%); opacity: 0.81\" title=\"0.135\">with</span><span style=\"opacity: 0.80\"> </span><span style=\"background-color: hsl(0, 100.00%, 79.77%); opacity: 0.88\" title=\"-0.912\">kidney</span><span style=\"opacity: 0.80\"> </span><span style=\"background-color: hsl(0, 100.00%, 82.90%); opacity: 0.86\" title=\"-0.717\">stones</span><span style=\"opacity: 0.80\">, </span><span style=\"background-color: hsl(120, 100.00%, 96.90%); opacity: 0.81\" title=\"0.063\">there</span><span style=\"opacity: 0.80\"> </span><span style=\"background-color: hsl(120, 100.00%, 92.50%); opacity: 0.82\" title=\"0.221\">isn</span><span style=\"opacity: 0.80\">&#x27;</span><span style=\"background-color: hsl(0, 100.00%, 97.12%); opacity: 0.80\" title=\"-0.056\">t</span><span style=\"opacity: 0.80\"> </span><span style=\"background-color: hsl(120, 100.00%, 98.94%); opacity: 0.80\" title=\"0.013\">any</span><span style=\"opacity: 0.80\">\n",
       "</span><span style=\"background-color: hsl(0, 100.00%, 85.24%); opacity: 0.85\" title=\"-0.581\">medication</span><span style=\"opacity: 0.80\"> </span><span style=\"background-color: hsl(120, 100.00%, 99.53%); opacity: 0.80\" title=\"0.004\">that</span><span style=\"opacity: 0.80\"> </span><span style=\"background-color: hsl(120, 100.00%, 91.14%); opacity: 0.82\" title=\"0.280\">can</span><span style=\"opacity: 0.80\"> </span><span style=\"background-color: hsl(120, 100.00%, 90.63%); opacity: 0.83\" title=\"0.304\">do</span><span style=\"opacity: 0.80\"> </span><span style=\"background-color: hsl(120, 100.00%, 93.88%); opacity: 0.81\" title=\"0.165\">anything</span><span style=\"opacity: 0.80\"> </span><span style=\"background-color: hsl(0, 100.00%, 96.11%); opacity: 0.81\" title=\"-0.086\">about</span><span style=\"opacity: 0.80\"> </span><span style=\"background-color: hsl(120, 100.00%, 94.80%); opacity: 0.81\" title=\"0.131\">them</span><span style=\"opacity: 0.80\"> </span><span style=\"background-color: hsl(0, 100.00%, 99.05%); opacity: 0.80\" title=\"-0.012\">except</span><span style=\"opacity: 0.80\"> </span><span style=\"background-color: hsl(0, 100.00%, 94.13%); opacity: 0.81\" title=\"-0.156\">relieve</span><span style=\"opacity: 0.80\"> </span><span style=\"background-color: hsl(0, 100.00%, 91.30%); opacity: 0.82\" title=\"-0.273\">the</span><span style=\"opacity: 0.80\"> </span><span style=\"background-color: hsl(0, 100.00%, 66.61%); opacity: 0.95\" title=\"-1.866\">pain</span><span style=\"opacity: 0.80\">.\n",
       "\n",
       "</span><span style=\"background-color: hsl(0, 100.00%, 95.90%); opacity: 0.81\" title=\"-0.093\">either</span><span style=\"opacity: 0.80\"> </span><span style=\"background-color: hsl(0, 100.00%, 95.28%); opacity: 0.81\" title=\"-0.114\">they</span><span style=\"opacity: 0.80\"> </span><span style=\"background-color: hsl(120, 100.00%, 92.30%); opacity: 0.82\" title=\"0.230\">pass</span><span style=\"opacity: 0.80\">, </span><span style=\"background-color: hsl(120, 100.00%, 94.33%); opacity: 0.81\" title=\"0.148\">or</span><span style=\"opacity: 0.80\"> </span><span style=\"background-color: hsl(120, 100.00%, 94.64%); opacity: 0.81\" title=\"0.137\">they</span><span style=\"opacity: 0.80\"> </span><span style=\"background-color: hsl(120, 100.00%, 97.09%); opacity: 0.80\" title=\"0.057\">have</span><span style=\"opacity: 0.80\"> </span><span style=\"background-color: hsl(120, 100.00%, 94.77%); opacity: 0.81\" title=\"0.132\">to</span><span style=\"opacity: 0.80\"> </span><span style=\"background-color: hsl(0, 100.00%, 96.60%); opacity: 0.81\" title=\"-0.071\">be</span><span style=\"opacity: 0.80\"> </span><span style=\"background-color: hsl(120, 100.00%, 89.97%); opacity: 0.83\" title=\"0.335\">broken</span><span style=\"opacity: 0.80\"> </span><span style=\"background-color: hsl(120, 100.00%, 95.31%); opacity: 0.81\" title=\"0.113\">up</span><span style=\"opacity: 0.80\"> </span><span style=\"background-color: hsl(0, 100.00%, 95.79%); opacity: 0.81\" title=\"-0.097\">with</span><span style=\"opacity: 0.80\"> </span><span style=\"background-color: hsl(120, 100.00%, 99.23%); opacity: 0.80\" title=\"0.009\">sound</span><span style=\"opacity: 0.80\">, </span><span style=\"background-color: hsl(120, 100.00%, 98.03%); opacity: 0.80\" title=\"0.033\">or</span><span style=\"opacity: 0.80\"> </span><span style=\"background-color: hsl(120, 100.00%, 94.64%); opacity: 0.81\" title=\"0.137\">they</span><span style=\"opacity: 0.80\"> </span><span style=\"background-color: hsl(120, 100.00%, 97.09%); opacity: 0.80\" title=\"0.057\">have</span><span style=\"opacity: 0.80\">\n",
       "</span><span style=\"background-color: hsl(120, 100.00%, 94.77%); opacity: 0.81\" title=\"0.132\">to</span><span style=\"opacity: 0.80\"> </span><span style=\"background-color: hsl(120, 100.00%, 93.07%); opacity: 0.82\" title=\"0.197\">be</span><span style=\"opacity: 0.80\"> </span><span style=\"background-color: hsl(120, 100.00%, 90.03%); opacity: 0.83\" title=\"0.332\">extracted</span><span style=\"opacity: 0.80\"> </span><span style=\"background-color: hsl(0, 100.00%, 94.36%); opacity: 0.81\" title=\"-0.147\">surgically</span><span style=\"opacity: 0.80\">.\n",
       "\n",
       "</span><span style=\"background-color: hsl(0, 100.00%, 95.34%); opacity: 0.81\" title=\"-0.112\">when</span><span style=\"opacity: 0.80\"> </span><span style=\"background-color: hsl(120, 100.00%, 98.49%); opacity: 0.80\" title=\"0.022\">i</span><span style=\"opacity: 0.80\"> </span><span style=\"background-color: hsl(120, 100.00%, 96.42%); opacity: 0.81\" title=\"0.077\">was</span><span style=\"opacity: 0.80\"> </span><span style=\"background-color: hsl(0, 100.00%, 96.02%); opacity: 0.81\" title=\"-0.090\">in</span><span style=\"opacity: 0.80\">, </span><span style=\"background-color: hsl(120, 100.00%, 96.72%); opacity: 0.81\" title=\"0.068\">the</span><span style=\"opacity: 0.80\"> </span><span style=\"background-color: hsl(120, 100.00%, 92.40%); opacity: 0.82\" title=\"0.225\">x</span><span style=\"opacity: 0.80\">-</span><span style=\"background-color: hsl(120, 100.00%, 94.70%); opacity: 0.81\" title=\"0.134\">ray</span><span style=\"opacity: 0.80\"> </span><span style=\"background-color: hsl(0, 100.00%, 93.00%); opacity: 0.82\" title=\"-0.200\">tech</span><span style=\"opacity: 0.80\"> </span><span style=\"background-color: hsl(120, 100.00%, 87.17%); opacity: 0.84\" title=\"0.476\">happened</span><span style=\"opacity: 0.80\"> </span><span style=\"background-color: hsl(120, 100.00%, 91.89%); opacity: 0.82\" title=\"0.247\">to</span><span style=\"opacity: 0.80\"> </span><span style=\"background-color: hsl(120, 100.00%, 89.08%); opacity: 0.83\" title=\"0.378\">mention</span><span style=\"opacity: 0.80\"> </span><span style=\"background-color: hsl(120, 100.00%, 94.17%); opacity: 0.81\" title=\"0.154\">that</span><span style=\"opacity: 0.80\"> </span><span style=\"background-color: hsl(120, 100.00%, 97.24%); opacity: 0.80\" title=\"0.053\">she</span><span style=\"opacity: 0.80\">&#x27;</span><span style=\"background-color: hsl(120, 100.00%, 98.84%); opacity: 0.80\" title=\"0.015\">d</span><span style=\"opacity: 0.80\"> had </span><span style=\"background-color: hsl(0, 100.00%, 79.77%); opacity: 0.88\" title=\"-0.912\">kidney</span><span style=\"opacity: 0.80\">\n",
       "</span><span style=\"background-color: hsl(0, 100.00%, 82.90%); opacity: 0.86\" title=\"-0.717\">stones</span><span style=\"opacity: 0.80\"> </span><span style=\"background-color: hsl(0, 100.00%, 96.21%); opacity: 0.81\" title=\"-0.083\">and</span><span style=\"opacity: 0.80\"> </span><span style=\"background-color: hsl(120, 100.00%, 87.75%); opacity: 0.84\" title=\"0.445\">children</span><span style=\"opacity: 0.80\">, </span><span style=\"background-color: hsl(120, 100.00%, 98.65%); opacity: 0.80\" title=\"0.019\">and</span><span style=\"opacity: 0.80\"> </span><span style=\"background-color: hsl(120, 100.00%, 94.87%); opacity: 0.81\" title=\"0.128\">the</span><span style=\"opacity: 0.80\"> </span><span style=\"background-color: hsl(120, 100.00%, 95.49%); opacity: 0.81\" title=\"0.107\">childbirth</span><span style=\"opacity: 0.80\"> </span><span style=\"background-color: hsl(0, 100.00%, 94.14%); opacity: 0.81\" title=\"-0.155\">hurt</span><span style=\"opacity: 0.80\"> </span><span style=\"background-color: hsl(0, 100.00%, 94.34%); opacity: 0.81\" title=\"-0.148\">less</span><span style=\"opacity: 0.80\">.</span>\n",
       "    </p>\n",
       "\n",
       "    \n",
       "\n",
       "\n",
       "    \n",
       "\n",
       "    \n",
       "\n",
       "    \n",
       "\n",
       "\n",
       "    \n",
       "\n",
       "    \n",
       "\n",
       "    \n",
       "\n",
       "    \n",
       "\n",
       "    \n",
       "\n",
       "    \n",
       "\n",
       "\n",
       "    \n",
       "\n",
       "    \n",
       "\n",
       "    \n",
       "\n",
       "    \n",
       "\n",
       "    \n",
       "\n",
       "    \n",
       "\n",
       "\n",
       "\n"
      ],
      "text/plain": [
       "<IPython.core.display.HTML object>"
      ]
     },
     "execution_count": 13,
     "metadata": {},
     "output_type": "execute_result"
    }
   ],
   "source": [
    "import eli5\n",
    "from eli5.lime import TextExplainer\n",
    "\n",
    "te = TextExplainer(random_state=42)\n",
    "te.fit(doc, pipe.predict_proba)\n",
    "te.show_prediction(target_names=twenty_train.target_names)"
   ]
  },
  {
   "cell_type": "code",
   "execution_count": 53,
   "id": "1300c1f5",
   "metadata": {},
   "outputs": [
    {
     "data": {
      "text/plain": [
       "array([[0.04625836, 0.39720962, 0.32938087, 0.22715115]])"
      ]
     },
     "execution_count": 53,
     "metadata": {},
     "output_type": "execute_result"
    }
   ],
   "source": [
    "pipe.predict_proba([data])"
   ]
  },
  {
   "cell_type": "code",
   "execution_count": 89,
   "id": "15a92610",
   "metadata": {},
   "outputs": [
    {
     "data": {
      "text/plain": [
       "array([[3.91904309e-01, 6.74773280e-03, 2.65367997e-01, 3.64027057e-04,\n",
       "        3.33725258e-01, 1.89067579e-03]])"
      ]
     },
     "execution_count": 89,
     "metadata": {},
     "output_type": "execute_result"
    }
   ],
   "source": [
    "#toxic_predictor = lambda doc: np.array(list(model.predict(doc).values())).T/np.array(list(model.predict(doc).values())).sum()\n",
    "\n",
    "def toxic_predicton(doc):\n",
    "    pred = np.array(list(model.predict(doc).values())).T\n",
    "    out = pred/pred.sum()\n",
    "    return out\n",
    "    \n",
    "toxic_predictor([data])\n"
   ]
  },
  {
   "cell_type": "code",
   "execution_count": 90,
   "id": "22304621",
   "metadata": {},
   "outputs": [
    {
     "data": {
      "text/plain": [
       "array([3.9190429e-01, 6.7477324e-03, 2.6536798e-01, 3.6402704e-04,\n",
       "       3.3372524e-01, 1.8906757e-03], dtype=float32)"
      ]
     },
     "execution_count": 90,
     "metadata": {},
     "output_type": "execute_result"
    }
   ],
   "source": [
    "toxic_predicton(data)"
   ]
  },
  {
   "cell_type": "code",
   "execution_count": 91,
   "id": "d0d87e14",
   "metadata": {},
   "outputs": [],
   "source": [
    "te = TextExplainer(random_state=42)"
   ]
  },
  {
   "cell_type": "code",
   "execution_count": 92,
   "id": "0d8a839a",
   "metadata": {},
   "outputs": [
    {
     "ename": "ValueError",
     "evalue": "probabilities do not sum to 1",
     "output_type": "error",
     "traceback": [
      "\u001b[0;31m---------------------------------------------------------------------------\u001b[0m",
      "\u001b[0;31mValueError\u001b[0m                                Traceback (most recent call last)",
      "\u001b[0;32m/var/folders/d5/r2v0z0z17nnfzysx1xgwf9jc0000gn/T/ipykernel_21162/1741411147.py\u001b[0m in \u001b[0;36m<module>\u001b[0;34m\u001b[0m\n\u001b[0;32m----> 1\u001b[0;31m \u001b[0mte\u001b[0m\u001b[0;34m.\u001b[0m\u001b[0mfit\u001b[0m\u001b[0;34m(\u001b[0m\u001b[0mdata\u001b[0m\u001b[0;34m,\u001b[0m \u001b[0mtoxic_predictor\u001b[0m\u001b[0;34m)\u001b[0m\u001b[0;34m\u001b[0m\u001b[0;34m\u001b[0m\u001b[0m\n\u001b[0m",
      "\u001b[0;32m~/Work/Projects/venv/lib/python3.8/site-packages/eli5/lime/lime.py\u001b[0m in \u001b[0;36mfit\u001b[0;34m(self, doc, predict_proba)\u001b[0m\n\u001b[1;32m    257\u001b[0m         \u001b[0mself\u001b[0m\u001b[0;34m.\u001b[0m\u001b[0mclf_\u001b[0m \u001b[0;34m=\u001b[0m \u001b[0mclone\u001b[0m\u001b[0;34m(\u001b[0m\u001b[0mself\u001b[0m\u001b[0;34m.\u001b[0m\u001b[0mclf\u001b[0m\u001b[0;34m)\u001b[0m\u001b[0;34m\u001b[0m\u001b[0;34m\u001b[0m\u001b[0m\n\u001b[1;32m    258\u001b[0m \u001b[0;34m\u001b[0m\u001b[0m\n\u001b[0;32m--> 259\u001b[0;31m         self.metrics_ = _train_local_classifier(\n\u001b[0m\u001b[1;32m    260\u001b[0m             \u001b[0mestimator\u001b[0m\u001b[0;34m=\u001b[0m\u001b[0mself\u001b[0m\u001b[0;34m.\u001b[0m\u001b[0mclf_\u001b[0m\u001b[0;34m,\u001b[0m\u001b[0;34m\u001b[0m\u001b[0;34m\u001b[0m\u001b[0m\n\u001b[1;32m    261\u001b[0m             \u001b[0msamples\u001b[0m\u001b[0;34m=\u001b[0m\u001b[0mX\u001b[0m\u001b[0;34m,\u001b[0m\u001b[0;34m\u001b[0m\u001b[0;34m\u001b[0m\u001b[0m\n",
      "\u001b[0;32m~/Work/Projects/venv/lib/python3.8/site-packages/eli5/lime/lime.py\u001b[0m in \u001b[0;36m_train_local_classifier\u001b[0;34m(estimator, samples, similarity, y_proba, expand_factor, test_size, random_state)\u001b[0m\n\u001b[1;32m    362\u001b[0m     \u001b[0;31m# Ideally, it should be supported as a Pipeline (i.e. user should\u001b[0m\u001b[0;34m\u001b[0m\u001b[0;34m\u001b[0m\u001b[0;34m\u001b[0m\u001b[0m\n\u001b[1;32m    363\u001b[0m     \u001b[0;31m# be able to configure it).\u001b[0m\u001b[0;34m\u001b[0m\u001b[0;34m\u001b[0m\u001b[0;34m\u001b[0m\u001b[0m\n\u001b[0;32m--> 364\u001b[0;31m     fit_proba(estimator, X_train, y_proba_train,\n\u001b[0m\u001b[1;32m    365\u001b[0m               \u001b[0mexpand_factor\u001b[0m\u001b[0;34m=\u001b[0m\u001b[0mexpand_factor\u001b[0m\u001b[0;34m,\u001b[0m\u001b[0;34m\u001b[0m\u001b[0;34m\u001b[0m\u001b[0m\n\u001b[1;32m    366\u001b[0m               \u001b[0msample_weight\u001b[0m\u001b[0;34m=\u001b[0m\u001b[0msimilarity_train\u001b[0m\u001b[0;34m,\u001b[0m\u001b[0;34m\u001b[0m\u001b[0;34m\u001b[0m\u001b[0m\n",
      "\u001b[0;32m~/Work/Projects/venv/lib/python3.8/site-packages/eli5/lime/utils.py\u001b[0m in \u001b[0;36mfit_proba\u001b[0;34m(clf, X, y_proba, expand_factor, sample_weight, shuffle, random_state, **fit_params)\u001b[0m\n\u001b[1;32m     26\u001b[0m     \u001b[0;34m(\u001b[0m\u001b[0me\u001b[0m\u001b[0;34m.\u001b[0m\u001b[0mg\u001b[0m\u001b[0;34m.\u001b[0m \u001b[0;32mif\u001b[0m \u001b[0mprobability\u001b[0m \u001b[0mscores\u001b[0m \u001b[0mare\u001b[0m \u001b[0;36m0\u001b[0m\u001b[0;34m/\u001b[0m\u001b[0;36m1\u001b[0m \u001b[0;32min\u001b[0m \u001b[0ma\u001b[0m \u001b[0mfirst\u001b[0m \u001b[0mplace\u001b[0m\u001b[0;34m)\u001b[0m\u001b[0;34m.\u001b[0m\u001b[0;34m\u001b[0m\u001b[0;34m\u001b[0m\u001b[0m\n\u001b[1;32m     27\u001b[0m     \"\"\"\n\u001b[0;32m---> 28\u001b[0;31m     X, y, sample_weight = expanded_X_y_sample_weights(X, y_proba,\n\u001b[0m\u001b[1;32m     29\u001b[0m         \u001b[0mexpand_factor\u001b[0m\u001b[0;34m=\u001b[0m\u001b[0mexpand_factor\u001b[0m\u001b[0;34m,\u001b[0m\u001b[0;34m\u001b[0m\u001b[0;34m\u001b[0m\u001b[0m\n\u001b[1;32m     30\u001b[0m         \u001b[0msample_weight\u001b[0m\u001b[0;34m=\u001b[0m\u001b[0msample_weight\u001b[0m\u001b[0;34m,\u001b[0m\u001b[0;34m\u001b[0m\u001b[0;34m\u001b[0m\u001b[0m\n",
      "\u001b[0;32m~/Work/Projects/venv/lib/python3.8/site-packages/eli5/lime/utils.py\u001b[0m in \u001b[0;36mexpanded_X_y_sample_weights\u001b[0;34m(X, y_proba, expand_factor, sample_weight, shuffle, random_state)\u001b[0m\n\u001b[1;32m    105\u001b[0m     \u001b[0;32mif\u001b[0m \u001b[0mexpand_factor\u001b[0m\u001b[0;34m:\u001b[0m\u001b[0;34m\u001b[0m\u001b[0;34m\u001b[0m\u001b[0m\n\u001b[1;32m    106\u001b[0m         \u001b[0;32mif\u001b[0m \u001b[0msample_weight\u001b[0m \u001b[0;32mis\u001b[0m \u001b[0;32mnot\u001b[0m \u001b[0;32mNone\u001b[0m\u001b[0;34m:\u001b[0m\u001b[0;34m\u001b[0m\u001b[0;34m\u001b[0m\u001b[0m\n\u001b[0;32m--> 107\u001b[0;31m             X, y, sample_weight = zip(*expand_dataset(X, y_proba,\n\u001b[0m\u001b[1;32m    108\u001b[0m                                                       \u001b[0mfactor\u001b[0m\u001b[0;34m=\u001b[0m\u001b[0mexpand_factor\u001b[0m\u001b[0;34m,\u001b[0m\u001b[0;34m\u001b[0m\u001b[0;34m\u001b[0m\u001b[0m\n\u001b[1;32m    109\u001b[0m                                                       \u001b[0mrandom_state\u001b[0m\u001b[0;34m=\u001b[0m\u001b[0mrng\u001b[0m\u001b[0;34m,\u001b[0m\u001b[0;34m\u001b[0m\u001b[0;34m\u001b[0m\u001b[0m\n",
      "\u001b[0;32m~/Work/Projects/venv/lib/python3.8/site-packages/eli5/lime/utils.py\u001b[0m in \u001b[0;36mexpand_dataset\u001b[0;34m(X, y_proba, factor, random_state, extra_arrays)\u001b[0m\n\u001b[1;32m    143\u001b[0m         \u001b[0mx\u001b[0m\u001b[0;34m,\u001b[0m \u001b[0mprobs\u001b[0m \u001b[0;34m=\u001b[0m \u001b[0mel\u001b[0m\u001b[0;34m[\u001b[0m\u001b[0;36m0\u001b[0m\u001b[0;34m:\u001b[0m\u001b[0;36m2\u001b[0m\u001b[0;34m]\u001b[0m\u001b[0;34m\u001b[0m\u001b[0;34m\u001b[0m\u001b[0m\n\u001b[1;32m    144\u001b[0m         \u001b[0mrest\u001b[0m \u001b[0;34m=\u001b[0m \u001b[0mel\u001b[0m\u001b[0;34m[\u001b[0m\u001b[0;36m2\u001b[0m\u001b[0;34m:\u001b[0m\u001b[0;34m]\u001b[0m\u001b[0;34m\u001b[0m\u001b[0;34m\u001b[0m\u001b[0m\n\u001b[0;32m--> 145\u001b[0;31m         \u001b[0;32mfor\u001b[0m \u001b[0mlabel\u001b[0m \u001b[0;32min\u001b[0m \u001b[0mrng\u001b[0m\u001b[0;34m.\u001b[0m\u001b[0mchoice\u001b[0m\u001b[0;34m(\u001b[0m\u001b[0mclasses\u001b[0m\u001b[0;34m,\u001b[0m \u001b[0msize\u001b[0m\u001b[0;34m=\u001b[0m\u001b[0mfactor\u001b[0m\u001b[0;34m,\u001b[0m \u001b[0mp\u001b[0m\u001b[0;34m=\u001b[0m\u001b[0mprobs\u001b[0m\u001b[0;34m)\u001b[0m\u001b[0;34m:\u001b[0m\u001b[0;34m\u001b[0m\u001b[0;34m\u001b[0m\u001b[0m\n\u001b[0m\u001b[1;32m    146\u001b[0m             \u001b[0;32myield\u001b[0m \u001b[0;34m(\u001b[0m\u001b[0mx\u001b[0m\u001b[0;34m,\u001b[0m \u001b[0mlabel\u001b[0m\u001b[0;34m)\u001b[0m \u001b[0;34m+\u001b[0m \u001b[0mrest\u001b[0m\u001b[0;34m\u001b[0m\u001b[0;34m\u001b[0m\u001b[0m\n\u001b[1;32m    147\u001b[0m \u001b[0;34m\u001b[0m\u001b[0m\n",
      "\u001b[0;32mmtrand.pyx\u001b[0m in \u001b[0;36mnumpy.random.mtrand.RandomState.choice\u001b[0;34m()\u001b[0m\n",
      "\u001b[0;31mValueError\u001b[0m: probabilities do not sum to 1"
     ]
    }
   ],
   "source": [
    "te.fit(data, toxic_predictor)"
   ]
  },
  {
   "cell_type": "code",
   "execution_count": 13,
   "id": "d06a5aa0",
   "metadata": {},
   "outputs": [],
   "source": [
    "import json\n",
    "from detoxify import Detoxify\n",
    "import datetime\n",
    "import time\n",
    "\n",
    "model = Detoxify('original', device='cpu')\n",
    "\n",
    "with open(\"data/user_data.json\", \"r\") as file_handler:    \n",
    "    userdata = json.load(file_handler)\n",
    "\n",
    "#preds = []\n",
    "#for post in userdata['posts']:\n",
    "#    result = model.predict(post['message'])\n",
    "#    result = {str(key): value.round(3) for key, value in result.items()}\n",
    "#    preds.append(result)\n",
    "\n",
    "    "
   ]
  },
  {
   "cell_type": "code",
   "execution_count": 33,
   "id": "9d3ca9f5",
   "metadata": {},
   "outputs": [],
   "source": [
    "for i, post in enumerate(userdata['posts']):\n",
    "    pred_post = model.predict(post['message'])\n",
    "    pred_post = {str(key): value.round(3) for key, value in pred_post.items()}\n",
    "    userdata['posts'][i]['pred'] = pred_post\n",
    "    if post['has_comments']:\n",
    "        for j, comment in enumerate(post['comments']):\n",
    "            pred_comment = model.predict(comment['message'])\n",
    "            pred_comment = {str(key): value.round(3) for key, value in pred_comment.items()}\n",
    "            userdata['posts'][i]['comments'][j]['pred'] = pred_comment\n"
   ]
  },
  {
   "cell_type": "code",
   "execution_count": 58,
   "id": "136ce8c0",
   "metadata": {},
   "outputs": [],
   "source": [
    "#add toxicity prediction to userdata\n",
    "for i, post in enumerate(userdata['posts']):\n",
    "    pred_post = model.predict(post['message'])\n",
    "    pred_post = {str(key): value.round(3) for key, value in pred_post.items()}\n",
    "    #sort dictionary\n",
    "    pred_post = dict(sorted(pred_post.items(), key=lambda item: item[1], reverse=True))\n",
    "    userdata['posts'][i]['pred'] = pred_post\n",
    "    \n",
    "    if post['has_comments']:\n",
    "        for j, comment in enumerate(post['comments']):\n",
    "            pred_comment = model.predict(comment['message'])\n",
    "            pred_comment = {str(key): value.round(3) for key, value in pred_comment.items()}\n",
    "            userdata['posts'][i]['comments'][j]['pred'] = pred_comment\n",
    "            userdata['posts'][i]['comments'][j]['id'] = str(i)+\"_\"+str(j)"
   ]
  },
  {
   "cell_type": "code",
   "execution_count": 12,
   "id": "a0308696",
   "metadata": {},
   "outputs": [
    {
     "name": "stdout",
     "output_type": "stream",
     "text": [
      "0 toxicity 0.16357347\n",
      "1 obscene 0.0042379154\n",
      "2 insult 0.0016475313\n",
      "3 threat 0.00087232096\n",
      "4 identity_hate 0.000684966\n",
      "5 severe_toxicity 0.00033340332\n"
     ]
    },
    {
     "data": {
      "text/plain": [
       "0"
      ]
     },
     "execution_count": 12,
     "metadata": {},
     "output_type": "execute_result"
    }
   ],
   "source": [
    "pred_post = model.predict('this is toxic!')\n",
    "pred_post = dict(sorted(pred_post.items(), key=lambda item: item[1], reverse=True))\n",
    "\n",
    "\n",
    "for i, (key, value), in enumerate(pred_post.items()):\n",
    "    print(i,key, value)\n",
    "    \n",
    "def other_prediction_button_position(pred_post, thres=0.1):\n",
    "    out = np.argwhere(np.insert(np.diff((np.array(list(pred_post.values())) <=thres )+0), 0, 0)== 1).flatten()[0] + 1\n",
    "    return out\n",
    "\n",
    "(np.array(list(pred_post.values())) > 0.7).sum()"
   ]
  },
  {
   "cell_type": "code",
   "execution_count": 74,
   "id": "2ea2b6d3",
   "metadata": {},
   "outputs": [
    {
     "name": "stderr",
     "output_type": "stream",
     "text": [
      "/var/folders/d5/r2v0z0z17nnfzysx1xgwf9jc0000gn/T/ipykernel_20121/4205760616.py:1: FutureWarning: in the future insert will treat boolean arrays and array-likes as a boolean index instead of casting it to integer\n",
      "  flags = np.insert(0, np.diff(np.array(list(pred_post.values())) <=0.1 ), 0)\n"
     ]
    },
    {
     "data": {
      "text/plain": [
       "array([0, 0, 0, 0, 0, 0])"
      ]
     },
     "execution_count": 74,
     "metadata": {},
     "output_type": "execute_result"
    }
   ],
   "source": [
    "\n",
    "flags = np.insert(0, np.diff(np.array(list(pred_post.values())) <=0.1 ), 0)\n",
    "flags"
   ]
  },
  {
   "cell_type": "code",
   "execution_count": 36,
   "id": "01bb466d",
   "metadata": {},
   "outputs": [
    {
     "ename": "NameError",
     "evalue": "name 'uniq_id' is not defined",
     "output_type": "error",
     "traceback": [
      "\u001b[0;31m---------------------------------------------------------------------------\u001b[0m",
      "\u001b[0;31mNameError\u001b[0m                                 Traceback (most recent call last)",
      "\u001b[0;32m/var/folders/d5/r2v0z0z17nnfzysx1xgwf9jc0000gn/T/ipykernel_20121/2981404664.py\u001b[0m in \u001b[0;36m<module>\u001b[0;34m\u001b[0m\n\u001b[0;32m----> 1\u001b[0;31m \u001b[0mtest\u001b[0m \u001b[0;34m=\u001b[0m \u001b[0;34m{\u001b[0m\u001b[0;34m\"id\"\u001b[0m\u001b[0;34m:\u001b[0m \u001b[0muniq_id\u001b[0m\u001b[0;34m,\u001b[0m \u001b[0;34m\"message\"\u001b[0m\u001b[0;34m:\u001b[0m\u001b[0mb\u001b[0m\u001b[0;34m,\u001b[0m \u001b[0;34m\"user_fullname\"\u001b[0m\u001b[0;34m:\u001b[0m \u001b[0ma\u001b[0m\u001b[0;34m,\u001b[0m \u001b[0;34m\"avatar_img\"\u001b[0m\u001b[0;34m:\u001b[0m \u001b[0;34m'https://i.pravatar.cc/100'\u001b[0m\u001b[0;34m,\u001b[0m \u001b[0;34m\"timestamp\"\u001b[0m\u001b[0;34m:\u001b[0m \u001b[0mdate_text\u001b[0m\u001b[0;34m,\u001b[0m \u001b[0;34m\"pred\"\u001b[0m\u001b[0;34m:\u001b[0m\u001b[0mpred\u001b[0m\u001b[0;34m}\u001b[0m\u001b[0;34m\u001b[0m\u001b[0;34m\u001b[0m\u001b[0m\n\u001b[0m\u001b[1;32m      2\u001b[0m \u001b[0mtest\u001b[0m\u001b[0;34m\u001b[0m\u001b[0;34m\u001b[0m\u001b[0m\n",
      "\u001b[0;31mNameError\u001b[0m: name 'uniq_id' is not defined"
     ]
    }
   ],
   "source": [
    "test = {\"id\": uniq_id, \n",
    "        \"message\":b, \n",
    "        \"user_fullname\": a, \n",
    "        \"avatar_img\": 'https://i.pravatar.cc/100', \n",
    "        \"timestamp\": date_text, \n",
    "        \"has_img\": False,\n",
    "        \"post_img\": '',\n",
    "       \"has_comments\": False,\n",
    "       \"comments\": []}\n",
    "test"
   ]
  },
  {
   "cell_type": "code",
   "execution_count": 107,
   "id": "b555fa27",
   "metadata": {},
   "outputs": [],
   "source": [
    "now = datetime.datetime.now()\n",
    "date_text = now.strftime(\"%d %B %Y at %H:%M\")"
   ]
  },
  {
   "cell_type": "code",
   "execution_count": 109,
   "id": "01a90d06",
   "metadata": {},
   "outputs": [
    {
     "name": "stdout",
     "output_type": "stream",
     "text": [
      "timestamp: '1636936579.133466', date_text: '14 November 2021 at 19:36'\n"
     ]
    }
   ],
   "source": [
    "tstamp = datetime.datetime.timestamp(now)\n",
    "print(\"timestamp: '\"+str(tstamp)+ \"',\", \"date_text: '\"+now.strftime(\"%d %B %Y at %H:%M\")+\"'\")\n",
    "#datetime.datetime.fromtimestamp(tstamp)"
   ]
  },
  {
   "cell_type": "code",
   "execution_count": 111,
   "id": "6e957748",
   "metadata": {},
   "outputs": [
    {
     "data": {
      "text/plain": [
       "{'user_pagetitle': 'Social Media',\n",
       " 'user_fullname': '24679 Student',\n",
       " 'avatar_img': 'https://i.pravatar.cc/151',\n",
       " 'stories': [{'id': 1,\n",
       "   'message': 'story a',\n",
       "   'bg_img': 'https://picsum.photos/600/301',\n",
       "   'avatar_img': 'https://i.pravatar.cc/150'},\n",
       "  {'id': 2,\n",
       "   'message': 'story b',\n",
       "   'bg_img': 'https://picsum.photos/601/302',\n",
       "   'avatar_img': 'https://i.pravatar.cc/149'}],\n",
       " 'posts': [{'id': 1,\n",
       "   'user_fullname': 'A person',\n",
       "   'avatar_img': 'https://i.pravatar.cc/152',\n",
       "   'date_text': '14 November 2021 at 19:28',\n",
       "   'timestamp': '1636936130.866307',\n",
       "   'message': 'Im sick of all the politically correct rhetoric going out there. Stop spewing words like Mad Men, Orange is the New Black',\n",
       "   'has_img': True,\n",
       "   'post_img': 'https://picsum.photos/401/300',\n",
       "   'has_comments': True,\n",
       "   'comments': [{'id': 1,\n",
       "     'user_fullname': 'A friend',\n",
       "     'time_ago': '14h',\n",
       "     'avatar_img': 'https://i.pravatar.cc/153',\n",
       "     'message': 'This is a comment'},\n",
       "    {'id': 2,\n",
       "     'user_fullname': 'Another friend',\n",
       "     'time_ago': '12h',\n",
       "     'avatar_img': 'https://i.pravatar.cc/148',\n",
       "     'message': 'This is another comment'}]},\n",
       "  {'id': 2,\n",
       "   'user_fullname': 'Random person',\n",
       "   'avatar_img': 'https://i.pravatar.cc/155',\n",
       "   'timestamp': '1636936446.753207',\n",
       "   'date_text': '14 November 2021 at 19:34',\n",
       "   'message': 'You are not toxic!!',\n",
       "   'has_img': False,\n",
       "   'post_img': '',\n",
       "   'has_comments': True,\n",
       "   'comments': [{'id': 1,\n",
       "     'user_fullname': 'A person',\n",
       "     'time_ago': '14h',\n",
       "     'avatar_img': 'https://i.pravatar.cc/156',\n",
       "     'message': 'This is a comment'},\n",
       "    {'id': 1,\n",
       "     'user_fullname': 'A person #2',\n",
       "     'time_ago': '14h',\n",
       "     'avatar_img': 'https://i.pravatar.cc/161',\n",
       "     'message': 'This is a comment'}]},\n",
       "  {'id': 3,\n",
       "   'user_fullname': 'A friend',\n",
       "   'avatar_img': 'https://i.pravatar.cc/157',\n",
       "   'timestamp': '1636936579.133466',\n",
       "   'date_text': '14 November 2021 at 19:36',\n",
       "   'message': 'Really hate the people around here!',\n",
       "   'has_img': False,\n",
       "   'post_img': '',\n",
       "   'has_comments': False,\n",
       "   'comments': []}]}"
      ]
     },
     "execution_count": 111,
     "metadata": {},
     "output_type": "execute_result"
    }
   ],
   "source": [
    "userdata"
   ]
  },
  {
   "cell_type": "code",
   "execution_count": 127,
   "id": "89eea96b",
   "metadata": {},
   "outputs": [
    {
     "data": {
      "text/plain": [
       "[{'id': 3,\n",
       "  'user_fullname': 'A friend',\n",
       "  'avatar_img': 'https://i.pravatar.cc/157',\n",
       "  'timestamp': '1636936579.133466',\n",
       "  'date_text': '14 November 2021 at 19:36',\n",
       "  'message': 'Really hate the people around here!',\n",
       "  'has_img': False,\n",
       "  'post_img': '',\n",
       "  'has_comments': False,\n",
       "  'comments': []},\n",
       " {'id': 2,\n",
       "  'user_fullname': 'Random person',\n",
       "  'avatar_img': 'https://i.pravatar.cc/155',\n",
       "  'timestamp': '1636936446.753207',\n",
       "  'date_text': '14 November 2021 at 19:34',\n",
       "  'message': 'You are not toxic!!',\n",
       "  'has_img': False,\n",
       "  'post_img': '',\n",
       "  'has_comments': True,\n",
       "  'comments': [{'id': 1,\n",
       "    'user_fullname': 'A person',\n",
       "    'time_ago': '14h',\n",
       "    'avatar_img': 'https://i.pravatar.cc/156',\n",
       "    'message': 'This is a comment'},\n",
       "   {'id': 1,\n",
       "    'user_fullname': 'A person #2',\n",
       "    'time_ago': '14h',\n",
       "    'avatar_img': 'https://i.pravatar.cc/161',\n",
       "    'message': 'This is a comment'}]},\n",
       " {'id': 1,\n",
       "  'user_fullname': 'A person',\n",
       "  'avatar_img': 'https://i.pravatar.cc/152',\n",
       "  'date_text': '14 November 2021 at 19:28',\n",
       "  'timestamp': '1636936130.866307',\n",
       "  'message': 'Im sick of all the politically correct rhetoric going out there. Stop spewing words like Mad Men, Orange is the New Black',\n",
       "  'has_img': True,\n",
       "  'post_img': 'https://picsum.photos/401/300',\n",
       "  'has_comments': True,\n",
       "  'comments': [{'id': 1,\n",
       "    'user_fullname': 'A friend',\n",
       "    'time_ago': '14h',\n",
       "    'avatar_img': 'https://i.pravatar.cc/153',\n",
       "    'message': 'This is a comment'},\n",
       "   {'id': 2,\n",
       "    'user_fullname': 'Another friend',\n",
       "    'time_ago': '12h',\n",
       "    'avatar_img': 'https://i.pravatar.cc/148',\n",
       "    'message': 'This is another comment'}]}]"
      ]
     },
     "execution_count": 127,
     "metadata": {},
     "output_type": "execute_result"
    }
   ],
   "source": [
    "newlist = \n",
    "newlist"
   ]
  },
  {
   "cell_type": "code",
   "execution_count": 14,
   "id": "5f871f36",
   "metadata": {},
   "outputs": [],
   "source": [
    "user_fullname = \"A user\"\n",
    "avatar_img = \"https://i.pravatar.cc/138\"\n",
    "post_id = \"1\"\n",
    "message = \"A new comment added\"\n",
    "now = datetime.datetime.now()\n",
    "uniq_id = str(time.time()).replace('.','')\n",
    "\n",
    "out = {\"id\": uniq_id, \n",
    "        \"message\":message, \n",
    "        \"user_fullname\": user_fullname, \n",
    "        \"avatar_img\": 'https://i.pravatar.cc/100', \n",
    "        \"time_ago\": \"1 minute\"}\n",
    "\n"
   ]
  },
  {
   "cell_type": "code",
   "execution_count": 15,
   "id": "1d0459c7",
   "metadata": {},
   "outputs": [
    {
     "data": {
      "text/plain": [
       "{'id': '16381872099488618',\n",
       " 'message': 'A new comment added',\n",
       " 'user_fullname': 'A user',\n",
       " 'avatar_img': 'https://i.pravatar.cc/100',\n",
       " 'time_ago': '1 minute'}"
      ]
     },
     "execution_count": 15,
     "metadata": {},
     "output_type": "execute_result"
    }
   ],
   "source": [
    "out"
   ]
  },
  {
   "cell_type": "code",
   "execution_count": 16,
   "id": "0cdc864d",
   "metadata": {},
   "outputs": [],
   "source": [
    "with open(\"static/json/post_\"+post_id+\".json\", \"r\") as file_handler:    \n",
    "    userdata = json.load(file_handler)       \n",
    "    userdata['comments'].append(out)\n",
    "\n"
   ]
  },
  {
   "cell_type": "code",
   "execution_count": 17,
   "id": "f10da7b3",
   "metadata": {},
   "outputs": [
    {
     "data": {
      "text/plain": [
       "{'id': 1,\n",
       " 'user_fullname': 'A person',\n",
       " 'avatar_img': 'https://i.pravatar.cc/152',\n",
       " 'date_text': '14 November 2021 at 19:28',\n",
       " 'timestamp': '1636936130.866307',\n",
       " 'message': 'Im sick of all the politically correct rhetoric going out there. Stop spewing words like Mad Men, Orange is the New Black',\n",
       " 'has_img': True,\n",
       " 'post_img': 'https://picsum.photos/401/300',\n",
       " 'has_comments': True,\n",
       " 'comments': [{'id': 1,\n",
       "   'user_fullname': 'A friend',\n",
       "   'time_ago': '14h',\n",
       "   'avatar_img': 'https://i.pravatar.cc/153',\n",
       "   'message': 'This is a comment'},\n",
       "  {'id': 2,\n",
       "   'user_fullname': 'Another friend',\n",
       "   'time_ago': '12h',\n",
       "   'avatar_img': 'https://i.pravatar.cc/148',\n",
       "   'message': 'You are sick, man!'},\n",
       "  {'id': '16381872099488618',\n",
       "   'message': 'A new comment added',\n",
       "   'user_fullname': 'A user',\n",
       "   'avatar_img': 'https://i.pravatar.cc/100',\n",
       "   'time_ago': '1 minute'}]}"
      ]
     },
     "execution_count": 17,
     "metadata": {},
     "output_type": "execute_result"
    }
   ],
   "source": [
    "userdata"
   ]
  },
  {
   "cell_type": "code",
   "execution_count": 18,
   "id": "1c63b48a",
   "metadata": {},
   "outputs": [],
   "source": [
    "with open(\"static/json/post_\"+post_id+\".json\", \"w\") as file_handler:    \n",
    "    json.dump(userdata, file_handler)\n",
    "\n",
    "  "
   ]
  },
  {
   "cell_type": "code",
   "execution_count": 19,
   "id": "097c672d",
   "metadata": {},
   "outputs": [
    {
     "data": {
      "text/plain": [
       "{'id': 1,\n",
       " 'user_fullname': 'A person',\n",
       " 'avatar_img': 'https://i.pravatar.cc/152',\n",
       " 'date_text': '14 November 2021 at 19:28',\n",
       " 'timestamp': '1636936130.866307',\n",
       " 'message': 'Im sick of all the politically correct rhetoric going out there. Stop spewing words like Mad Men, Orange is the New Black',\n",
       " 'has_img': True,\n",
       " 'post_img': 'https://picsum.photos/401/300',\n",
       " 'has_comments': True,\n",
       " 'comments': [{'id': 1,\n",
       "   'user_fullname': 'A friend',\n",
       "   'time_ago': '14h',\n",
       "   'avatar_img': 'https://i.pravatar.cc/153',\n",
       "   'message': 'This is a comment'},\n",
       "  {'id': 2,\n",
       "   'user_fullname': 'Another friend',\n",
       "   'time_ago': '12h',\n",
       "   'avatar_img': 'https://i.pravatar.cc/148',\n",
       "   'message': 'You are sick, man!'},\n",
       "  {'id': '16381872099488618',\n",
       "   'message': 'A new comment added',\n",
       "   'user_fullname': 'A user',\n",
       "   'avatar_img': 'https://i.pravatar.cc/100',\n",
       "   'time_ago': '1 minute'}]}"
      ]
     },
     "execution_count": 19,
     "metadata": {},
     "output_type": "execute_result"
    }
   ],
   "source": [
    "with open(\"static/json/post_\"+post_id+\".json\", \"r\") as file_handler:    \n",
    "    userdata = json.load(file_handler)       \n",
    "userdata    \n",
    "\n"
   ]
  },
  {
   "cell_type": "code",
   "execution_count": null,
   "id": "f5c803b1",
   "metadata": {},
   "outputs": [],
   "source": []
  }
 ],
 "metadata": {
  "kernelspec": {
   "display_name": "toxicity-venv",
   "language": "python",
   "name": "toxicity-venv"
  },
  "language_info": {
   "codemirror_mode": {
    "name": "ipython",
    "version": 3
   },
   "file_extension": ".py",
   "mimetype": "text/x-python",
   "name": "python",
   "nbconvert_exporter": "python",
   "pygments_lexer": "ipython3",
   "version": "3.8.2"
  }
 },
 "nbformat": 4,
 "nbformat_minor": 5
}
